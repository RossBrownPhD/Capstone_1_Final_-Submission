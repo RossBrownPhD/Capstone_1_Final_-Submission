{
 "cells": [
  {
   "cell_type": "markdown",
   "metadata": {},
   "source": [
    "# Ross Brown Springboard Data Science Project 7.2: Apply Data Storytelling\n"
   ]
  },
  {
   "cell_type": "markdown",
   "metadata": {},
   "source": [
    "For those living in the greater latitudes of the northern hemisphere, the effects of winter can be concrete and disruptive. A basic human need – social interaction – can suffer when mobility is hampered by several feet of snow and subzero temperatures; city residents relying on public transit may prefer to spend their free time home and indoors rather than braving snow and slush that make transportation treacherous. Add shorter days and months without sunshine into the mix, and you've got the ingredients of a mood disorder with characteristics of depression that is associated with features of seasonal winter weather: seasonal affective disorder (SAD).\n",
    "\n",
    "Like other depressive conditions, SAD has been associated with alcoholism, in both the [research literature]( https://www.ncbi.nlm.nih.gov/pubmed/14671737) and the [popular press]( http://www.businessinsider.com/people-with-seasonal-affective-disorder-are-more-likely-to-be-alcoholics-2017-10)\n",
    "\n",
    "Winter severity varies from year to year, now more than before, due to global warming. Would winter severity be predictive of alcoholism, with SAD the vector, so to speak? \n",
    "\n",
    "Harsher  Winter  = Seasonal Affective Disorder is more widespread and/or more severe = More Alcoholism\n",
    "\n",
    "Taking out the vector, More severe winter  = More alcoholism\n",
    "\n",
    "If alcoholism could be predicted with weather data, its effects could be more readily mitigated. Providers of mental health care could be prepared in advance to offer treatment: For-profit providers could increase staff, and government providers could increase outreach programs to vulnerable populations. City health agencies could take steps to counter the effects SAD before alcoholism develops: providing transit and social activities targeted to those most likely to be affected. If winter severity has differential effects on subsets of the population, i.e., particular socioeconomic group, education level, etc., outreach could be more targeted.\n",
    "\n",
    "Examining two datasets may help determine whether evidence supports the hypothesis that winter severity may lead to increases in alcoholism. The datasets are: A winter severity index and data on the number of people admitted to substance abuse treatment each year. A pilot study of these datasets in a delineated location will help isolate the possible relationship of the predictive variable, winter severity, on the outcome variable, alcoholism.\n",
    "\n",
    "The feature is the [Accumulated Winter Season Severity Index](https://journals.ametsoc.org/doi/full/10.1175/JAMC-D-14-0217.1) (AWSSI), calculated by the National Oceanic and Atmospheric Administration and the National Weather Service, which quantifies winter severity. It uses “widely available daily meteorological parameters to quantify the severity of a winter season [and] is calculated with a temperature component and a snow component, allowing an end-of-season total AWSSI to represent the severity of a season” \n",
    "\n",
    "The target is the [Treatment Episode Data Set – Admissions](https://catalog.data.gov/dataset/treatment-episode-data-set-admissions-teds-a-2013) (TEDS-A), a national census data system of annual admissions to substance abuse treatment facilities that receive public funding. The annual dataset is available for the years from1992 to 2014. \n",
    "\n",
    "The weather stations for which there are AWSSI data include one in Blue Hill, Mass. It is the only station in that state, and is somewhat centrally located, at least in terms of state population distribution. For alcohol admissions, the TEDS-A data is sliced many different ways, but there is missing data for several of the geographic categories. Alcohol admissions data by state, however, is mostly complete, so the target will be alcohol admissions for Massachusetts from 1992 to 2014.\n",
    "\n"
   ]
  },
  {
   "cell_type": "markdown",
   "metadata": {},
   "source": [
    "With only 23 data points, it's hard to generalize from a histogram of the target variable, but there were 10 years when Massachusetts saw between 30,000 and 34,999 patient admissions for alcoholism. The range on the low end of the histogram was greater than on the high end. "
   ]
  },
  {
   "cell_type": "code",
   "execution_count": 1,
   "metadata": {},
   "outputs": [
    {
     "data": {
      "text/html": [
       "<script>requirejs.config({paths: { 'plotly': ['https://cdn.plot.ly/plotly-latest.min']},});if(!window.Plotly) {{require(['plotly'],function(plotly) {window.Plotly=plotly;});}}</script>"
      ],
      "text/vnd.plotly.v1+html": [
       "<script>requirejs.config({paths: { 'plotly': ['https://cdn.plot.ly/plotly-latest.min']},});if(!window.Plotly) {{require(['plotly'],function(plotly) {window.Plotly=plotly;});}}</script>"
      ]
     },
     "metadata": {},
     "output_type": "display_data"
    },
    {
     "data": {
      "application/vnd.plotly.v1+json": {
       "data": [
        {
         "histfunc": "count",
         "histnorm": "",
         "marker": {
          "color": "rgba(8, 81, 156, 1.0)",
          "line": {
           "color": "#D9D9D9",
           "width": 1.3
          }
         },
         "name": "total_admits",
         "opacity": 0.8,
         "orientation": "v",
         "type": "histogram",
         "x": [
          29526,
          31541,
          32210,
          33411,
          34559,
          35083,
          32965,
          30886,
          28948,
          26727,
          22669,
          18215,
          20421,
          20734,
          37349,
          36571,
          32373,
          32062,
          31177,
          29697,
          30003,
          28819,
          27595
         ]
        }
       ],
       "layout": {
        "barmode": "overlay",
        "legend": {
         "bgcolor": "#FFFFFF",
         "font": {
          "color": "#666666"
         }
        },
        "paper_bgcolor": "#FFFFFF",
        "plot_bgcolor": "#E5E5E5",
        "title": "Histogram of Number of Alcoholism Admissions per Year",
        "titlefont": {
         "color": "#151516"
        },
        "xaxis1": {
         "gridcolor": "#F6F6F6",
         "showgrid": true,
         "tickfont": {
          "color": "#666666"
         },
         "title": "Number of Admissions",
         "titlefont": {
          "color": "#666666"
         },
         "zerolinecolor": "#F6F6F6"
        },
        "yaxis1": {
         "gridcolor": "#F6F6F6",
         "showgrid": true,
         "tickfont": {
          "color": "#666666"
         },
         "title": "Number of Years",
         "titlefont": {
          "color": "#666666"
         },
         "zerolinecolor": "#F6F6F6"
        }
       }
      },
      "text/html": [
       "<div id=\"cf200ae1-3ea9-4baf-928e-d7ef5d1b0b51\" style=\"height: 525px; width: 100%;\" class=\"plotly-graph-div\"></div><script type=\"text/javascript\">require([\"plotly\"], function(Plotly) { window.PLOTLYENV=window.PLOTLYENV || {};window.PLOTLYENV.BASE_URL=\"https://plot.ly\";Plotly.newPlot(\"cf200ae1-3ea9-4baf-928e-d7ef5d1b0b51\", [{\"type\": \"histogram\", \"x\": [29526, 31541, 32210, 33411, 34559, 35083, 32965, 30886, 28948, 26727, 22669, 18215, 20421, 20734, 37349, 36571, 32373, 32062, 31177, 29697, 30003, 28819, 27595], \"name\": \"total_admits\", \"marker\": {\"color\": \"rgba(8, 81, 156, 1.0)\", \"line\": {\"width\": 1.3, \"color\": \"#D9D9D9\"}}, \"orientation\": \"v\", \"opacity\": 0.8, \"histfunc\": \"count\", \"histnorm\": \"\"}], {\"legend\": {\"bgcolor\": \"#FFFFFF\", \"font\": {\"color\": \"#666666\"}}, \"paper_bgcolor\": \"#FFFFFF\", \"plot_bgcolor\": \"#E5E5E5\", \"yaxis1\": {\"tickfont\": {\"color\": \"#666666\"}, \"gridcolor\": \"#F6F6F6\", \"titlefont\": {\"color\": \"#666666\"}, \"zerolinecolor\": \"#F6F6F6\", \"showgrid\": true, \"title\": \"Number of Years\"}, \"xaxis1\": {\"tickfont\": {\"color\": \"#666666\"}, \"gridcolor\": \"#F6F6F6\", \"titlefont\": {\"color\": \"#666666\"}, \"zerolinecolor\": \"#F6F6F6\", \"showgrid\": true, \"title\": \"Number of Admissions\"}, \"titlefont\": {\"color\": \"#151516\"}, \"title\": \"Histogram of Number of Alcoholism Admissions per Year\", \"barmode\": \"overlay\"}, {\"showLink\": true, \"linkText\": \"Export to plot.ly\"})});</script>"
      ],
      "text/vnd.plotly.v1+html": [
       "<div id=\"cf200ae1-3ea9-4baf-928e-d7ef5d1b0b51\" style=\"height: 525px; width: 100%;\" class=\"plotly-graph-div\"></div><script type=\"text/javascript\">require([\"plotly\"], function(Plotly) { window.PLOTLYENV=window.PLOTLYENV || {};window.PLOTLYENV.BASE_URL=\"https://plot.ly\";Plotly.newPlot(\"cf200ae1-3ea9-4baf-928e-d7ef5d1b0b51\", [{\"type\": \"histogram\", \"x\": [29526, 31541, 32210, 33411, 34559, 35083, 32965, 30886, 28948, 26727, 22669, 18215, 20421, 20734, 37349, 36571, 32373, 32062, 31177, 29697, 30003, 28819, 27595], \"name\": \"total_admits\", \"marker\": {\"color\": \"rgba(8, 81, 156, 1.0)\", \"line\": {\"width\": 1.3, \"color\": \"#D9D9D9\"}}, \"orientation\": \"v\", \"opacity\": 0.8, \"histfunc\": \"count\", \"histnorm\": \"\"}], {\"legend\": {\"bgcolor\": \"#FFFFFF\", \"font\": {\"color\": \"#666666\"}}, \"paper_bgcolor\": \"#FFFFFF\", \"plot_bgcolor\": \"#E5E5E5\", \"yaxis1\": {\"tickfont\": {\"color\": \"#666666\"}, \"gridcolor\": \"#F6F6F6\", \"titlefont\": {\"color\": \"#666666\"}, \"zerolinecolor\": \"#F6F6F6\", \"showgrid\": true, \"title\": \"Number of Years\"}, \"xaxis1\": {\"tickfont\": {\"color\": \"#666666\"}, \"gridcolor\": \"#F6F6F6\", \"titlefont\": {\"color\": \"#666666\"}, \"zerolinecolor\": \"#F6F6F6\", \"showgrid\": true, \"title\": \"Number of Admissions\"}, \"titlefont\": {\"color\": \"#151516\"}, \"title\": \"Histogram of Number of Alcoholism Admissions per Year\", \"barmode\": \"overlay\"}, {\"showLink\": true, \"linkText\": \"Export to plot.ly\"})});</script>"
      ]
     },
     "metadata": {},
     "output_type": "display_data"
    }
   ],
   "source": [
    "import plotly\n",
    "plotly.tools.set_credentials_file(username=\"Ross.Brown.Ph.D.\", api_key='yPNZCAkYOyi7wAKtZrSM')\n",
    "import pandas as pd\n",
    "from pandas import DataFrame\n",
    "df = pd.read_pickle(\"C:/Users/rmbrm/Documents/DS ED/2018/Spring/7.2 Assignment data storytelling/all_data\", compression='infer')\n",
    "\n",
    "df['YEAR'] = df.index\n",
    "\n",
    "\n",
    "import plotly.offline as pyo\n",
    "\n",
    "from plotly.graph_objs import *\n",
    "\n",
    "import plotly.plotly as py\n",
    "\n",
    "from plotly import __version__\n",
    "from plotly.offline import download_plotlyjs, init_notebook_mode, plot, iplot\n",
    "\n",
    "\n",
    "import plotly.graph_objs as go\n",
    "import numpy as np\n",
    "\n",
    "from plotly import tools\n",
    "from plotly.graph_objs import Bar, Data, Figure, Layout, Marker, Scatter\n",
    "\n",
    "init_notebook_mode(connected=True)\n",
    "\n",
    "import cufflinks as cf\n",
    "\n",
    "# Make a histogram of main target\n",
    "\n",
    "dfa = df.drop(df.columns[0:36], axis =1)\n",
    "fig1 = dfa.iplot(kind='histogram', color='#08519c', title='Histogram of Number of Alcoholism Admissions per Year', xTitle='Number of Admissions', yTitle='Number of Years', asFigure=True)\n",
    "pyo.iplot(fig1)"
   ]
  },
  {
   "cell_type": "markdown",
   "metadata": {},
   "source": [
    "A scatterplot matrix of the target and the feature and its components (AWSSI, temperature score, and snow score) showed a slightly negative relationship between features and the target. "
   ]
  },
  {
   "cell_type": "code",
   "execution_count": 2,
   "metadata": {},
   "outputs": [
    {
     "data": {
      "application/vnd.plotly.v1+json": {
       "data": [
        {
         "line": {
          "color": "rgba(8, 81, 156, 1.0)",
          "dash": "solid",
          "width": 1.3
         },
         "marker": {
          "size": 12,
          "symbol": "dot"
         },
         "mode": "markers",
         "name": "AWSSI",
         "text": "",
         "type": "scatter",
         "x": [
          29526,
          31541,
          32210,
          33411,
          34559,
          35083,
          32965,
          30886,
          28948,
          26727,
          22669,
          18215,
          20421,
          20734,
          37349,
          36571,
          32373,
          32062,
          31177,
          29697,
          30003,
          28819,
          27595
         ],
         "xaxis": "x1",
         "y": [
          440,
          788,
          1052,
          369,
          1090,
          501,
          447,
          443,
          531,
          929,
          313,
          1196,
          674,
          1012,
          510,
          413,
          595,
          805,
          563,
          998,
          260,
          627,
          892
         ],
         "yaxis": "y1"
        },
        {
         "line": {
          "color": "rgba(49, 130, 189, 1.0)",
          "dash": "solid",
          "width": 1.3
         },
         "marker": {
          "size": 12,
          "symbol": "dot"
         },
         "mode": "markers",
         "name": "TempScore",
         "text": "",
         "type": "scatter",
         "x": [
          29526,
          31541,
          32210,
          33411,
          34559,
          35083,
          32965,
          30886,
          28948,
          26727,
          22669,
          18215,
          20421,
          20734,
          37349,
          36571,
          32373,
          32062,
          31177,
          29697,
          30003,
          28819,
          27595
         ],
         "xaxis": "x2",
         "y": [
          335,
          364,
          426,
          279,
          400,
          282,
          202,
          245,
          300,
          373,
          181,
          482,
          414,
          350,
          286,
          311,
          290,
          369,
          247,
          326,
          176,
          235,
          437
         ],
         "yaxis": "y2"
        },
        {
         "line": {
          "color": "rgba(133, 146, 158, 1.0)",
          "dash": "solid",
          "width": 1.3
         },
         "marker": {
          "size": 12,
          "symbol": "dot"
         },
         "mode": "markers",
         "name": "SnowScore",
         "text": "",
         "type": "scatter",
         "x": [
          29526,
          31541,
          32210,
          33411,
          34559,
          35083,
          32965,
          30886,
          28948,
          26727,
          22669,
          18215,
          20421,
          20734,
          37349,
          36571,
          32373,
          32062,
          31177,
          29697,
          30003,
          28819,
          27595
         ],
         "xaxis": "x1",
         "y": [
          105,
          424,
          626,
          90,
          690,
          219,
          245,
          198,
          231,
          556,
          132,
          714,
          260,
          662,
          224,
          102,
          305,
          436,
          316,
          672,
          84,
          392,
          455
         ],
         "yaxis": "y3"
        }
       ],
       "layout": {
        "annotations": [
         {
          "font": {
           "size": 16
          },
          "showarrow": false,
          "text": "AWSSI",
          "x": 0.22499999999999998,
          "xanchor": "center",
          "xref": "paper",
          "y": 1,
          "yanchor": "bottom",
          "yref": "paper"
         },
         {
          "font": {
           "size": 16
          },
          "showarrow": false,
          "text": "TempScore",
          "x": 0.7749999999999999,
          "xanchor": "center",
          "xref": "paper",
          "y": 1,
          "yanchor": "bottom",
          "yref": "paper"
         },
         {
          "font": {
           "size": 16
          },
          "showarrow": false,
          "text": "SnowScore",
          "x": 0.22499999999999998,
          "xanchor": "center",
          "xref": "paper",
          "y": 0.375,
          "yanchor": "bottom",
          "yref": "paper"
         }
        ],
        "height": 800,
        "legend": {
         "bgcolor": "#FFFFFF",
         "font": {
          "color": "#666666"
         }
        },
        "paper_bgcolor": "#FFFFFF",
        "plot_bgcolor": "#E5E5E5",
        "title": "Features: Winter Index and Temperature, Snow Components. Target: Total Alcoholism Admissions.",
        "titlefont": {
         "color": "#151516"
        },
        "width": 1116,
        "xaxis1": {
         "anchor": "y3",
         "domain": [
          0,
          0.45
         ],
         "gridcolor": "#F6F6F6",
         "showgrid": true,
         "tickfont": {
          "color": "#666666"
         },
         "title": "Number of Admissions",
         "titlefont": {
          "color": "#666666"
         },
         "zerolinecolor": "#F6F6F6"
        },
        "xaxis2": {
         "anchor": "y4",
         "domain": [
          0.55,
          1
         ]
        },
        "yaxis1": {
         "anchor": "free",
         "domain": [
          0.625,
          1
         ],
         "gridcolor": "#F6F6F6",
         "position": 0,
         "showgrid": true,
         "tickfont": {
          "color": "#666666"
         },
         "title": "Index",
         "titlefont": {
          "color": "#666666"
         },
         "zerolinecolor": "#F6F6F6"
        },
        "yaxis2": {
         "anchor": "free",
         "domain": [
          0.625,
          1
         ],
         "position": 0.55
        },
        "yaxis3": {
         "anchor": "x1",
         "domain": [
          0,
          0.375
         ]
        }
       }
      },
      "text/html": [
       "<div id=\"7a6f8d84-756f-405a-9196-822a06f56022\" style=\"height: 800px; width: 1116px;\" class=\"plotly-graph-div\"></div><script type=\"text/javascript\">require([\"plotly\"], function(Plotly) { window.PLOTLYENV=window.PLOTLYENV || {};window.PLOTLYENV.BASE_URL=\"https://plot.ly\";Plotly.newPlot(\"7a6f8d84-756f-405a-9196-822a06f56022\", [{\"type\": \"scatter\", \"x\": [29526, 31541, 32210, 33411, 34559, 35083, 32965, 30886, 28948, 26727, 22669, 18215, 20421, 20734, 37349, 36571, 32373, 32062, 31177, 29697, 30003, 28819, 27595], \"y\": [440, 788, 1052, 369, 1090, 501, 447, 443, 531, 929, 313, 1196, 674, 1012, 510, 413, 595, 805, 563, 998, 260, 627, 892], \"name\": \"AWSSI\", \"text\": \"\", \"line\": {\"color\": \"rgba(8, 81, 156, 1.0)\", \"width\": 1.3, \"dash\": \"solid\"}, \"mode\": \"markers\", \"marker\": {\"symbol\": \"dot\", \"size\": 12}, \"xaxis\": \"x1\", \"yaxis\": \"y1\"}, {\"type\": \"scatter\", \"x\": [29526, 31541, 32210, 33411, 34559, 35083, 32965, 30886, 28948, 26727, 22669, 18215, 20421, 20734, 37349, 36571, 32373, 32062, 31177, 29697, 30003, 28819, 27595], \"y\": [335, 364, 426, 279, 400, 282, 202, 245, 300, 373, 181, 482, 414, 350, 286, 311, 290, 369, 247, 326, 176, 235, 437], \"name\": \"TempScore\", \"text\": \"\", \"line\": {\"color\": \"rgba(49, 130, 189, 1.0)\", \"width\": 1.3, \"dash\": \"solid\"}, \"mode\": \"markers\", \"marker\": {\"symbol\": \"dot\", \"size\": 12}, \"xaxis\": \"x2\", \"yaxis\": \"y2\"}, {\"type\": \"scatter\", \"x\": [29526, 31541, 32210, 33411, 34559, 35083, 32965, 30886, 28948, 26727, 22669, 18215, 20421, 20734, 37349, 36571, 32373, 32062, 31177, 29697, 30003, 28819, 27595], \"y\": [105, 424, 626, 90, 690, 219, 245, 198, 231, 556, 132, 714, 260, 662, 224, 102, 305, 436, 316, 672, 84, 392, 455], \"name\": \"SnowScore\", \"text\": \"\", \"line\": {\"color\": \"rgba(133, 146, 158, 1.0)\", \"width\": 1.3, \"dash\": \"solid\"}, \"mode\": \"markers\", \"marker\": {\"symbol\": \"dot\", \"size\": 12}, \"xaxis\": \"x1\", \"yaxis\": \"y3\"}], {\"yaxis1\": {\"domain\": [0.625, 1.0], \"anchor\": \"free\", \"position\": 0.0, \"tickfont\": {\"color\": \"#666666\"}, \"gridcolor\": \"#F6F6F6\", \"titlefont\": {\"color\": \"#666666\"}, \"zerolinecolor\": \"#F6F6F6\", \"showgrid\": true, \"title\": \"Index\"}, \"yaxis2\": {\"domain\": [0.625, 1.0], \"anchor\": \"free\", \"position\": 0.55}, \"xaxis1\": {\"domain\": [0.0, 0.45], \"anchor\": \"y3\", \"tickfont\": {\"color\": \"#666666\"}, \"gridcolor\": \"#F6F6F6\", \"titlefont\": {\"color\": \"#666666\"}, \"zerolinecolor\": \"#F6F6F6\", \"showgrid\": true, \"title\": \"Number of Admissions\"}, \"yaxis3\": {\"domain\": [0.0, 0.375], \"anchor\": \"x1\"}, \"xaxis2\": {\"domain\": [0.55, 1.0], \"anchor\": \"y4\"}, \"annotations\": [{\"y\": 1.0, \"xref\": \"paper\", \"x\": 0.22499999999999998, \"yref\": \"paper\", \"text\": \"AWSSI\", \"showarrow\": false, \"font\": {\"size\": 16}, \"xanchor\": \"center\", \"yanchor\": \"bottom\"}, {\"y\": 1.0, \"xref\": \"paper\", \"x\": 0.7749999999999999, \"yref\": \"paper\", \"text\": \"TempScore\", \"showarrow\": false, \"font\": {\"size\": 16}, \"xanchor\": \"center\", \"yanchor\": \"bottom\"}, {\"y\": 0.375, \"xref\": \"paper\", \"x\": 0.22499999999999998, \"yref\": \"paper\", \"text\": \"SnowScore\", \"showarrow\": false, \"font\": {\"size\": 16}, \"xanchor\": \"center\", \"yanchor\": \"bottom\"}], \"legend\": {\"bgcolor\": \"#FFFFFF\", \"font\": {\"color\": \"#666666\"}}, \"paper_bgcolor\": \"#FFFFFF\", \"plot_bgcolor\": \"#E5E5E5\", \"titlefont\": {\"color\": \"#151516\"}, \"title\": \"Features: Winter Index and Temperature, Snow Components. Target: Total Alcoholism Admissions.\", \"width\": 1116, \"height\": 800}, {\"showLink\": true, \"linkText\": \"Export to plot.ly\"})});</script>"
      ],
      "text/vnd.plotly.v1+html": [
       "<div id=\"7a6f8d84-756f-405a-9196-822a06f56022\" style=\"height: 800px; width: 1116px;\" class=\"plotly-graph-div\"></div><script type=\"text/javascript\">require([\"plotly\"], function(Plotly) { window.PLOTLYENV=window.PLOTLYENV || {};window.PLOTLYENV.BASE_URL=\"https://plot.ly\";Plotly.newPlot(\"7a6f8d84-756f-405a-9196-822a06f56022\", [{\"type\": \"scatter\", \"x\": [29526, 31541, 32210, 33411, 34559, 35083, 32965, 30886, 28948, 26727, 22669, 18215, 20421, 20734, 37349, 36571, 32373, 32062, 31177, 29697, 30003, 28819, 27595], \"y\": [440, 788, 1052, 369, 1090, 501, 447, 443, 531, 929, 313, 1196, 674, 1012, 510, 413, 595, 805, 563, 998, 260, 627, 892], \"name\": \"AWSSI\", \"text\": \"\", \"line\": {\"color\": \"rgba(8, 81, 156, 1.0)\", \"width\": 1.3, \"dash\": \"solid\"}, \"mode\": \"markers\", \"marker\": {\"symbol\": \"dot\", \"size\": 12}, \"xaxis\": \"x1\", \"yaxis\": \"y1\"}, {\"type\": \"scatter\", \"x\": [29526, 31541, 32210, 33411, 34559, 35083, 32965, 30886, 28948, 26727, 22669, 18215, 20421, 20734, 37349, 36571, 32373, 32062, 31177, 29697, 30003, 28819, 27595], \"y\": [335, 364, 426, 279, 400, 282, 202, 245, 300, 373, 181, 482, 414, 350, 286, 311, 290, 369, 247, 326, 176, 235, 437], \"name\": \"TempScore\", \"text\": \"\", \"line\": {\"color\": \"rgba(49, 130, 189, 1.0)\", \"width\": 1.3, \"dash\": \"solid\"}, \"mode\": \"markers\", \"marker\": {\"symbol\": \"dot\", \"size\": 12}, \"xaxis\": \"x2\", \"yaxis\": \"y2\"}, {\"type\": \"scatter\", \"x\": [29526, 31541, 32210, 33411, 34559, 35083, 32965, 30886, 28948, 26727, 22669, 18215, 20421, 20734, 37349, 36571, 32373, 32062, 31177, 29697, 30003, 28819, 27595], \"y\": [105, 424, 626, 90, 690, 219, 245, 198, 231, 556, 132, 714, 260, 662, 224, 102, 305, 436, 316, 672, 84, 392, 455], \"name\": \"SnowScore\", \"text\": \"\", \"line\": {\"color\": \"rgba(133, 146, 158, 1.0)\", \"width\": 1.3, \"dash\": \"solid\"}, \"mode\": \"markers\", \"marker\": {\"symbol\": \"dot\", \"size\": 12}, \"xaxis\": \"x1\", \"yaxis\": \"y3\"}], {\"yaxis1\": {\"domain\": [0.625, 1.0], \"anchor\": \"free\", \"position\": 0.0, \"tickfont\": {\"color\": \"#666666\"}, \"gridcolor\": \"#F6F6F6\", \"titlefont\": {\"color\": \"#666666\"}, \"zerolinecolor\": \"#F6F6F6\", \"showgrid\": true, \"title\": \"Index\"}, \"yaxis2\": {\"domain\": [0.625, 1.0], \"anchor\": \"free\", \"position\": 0.55}, \"xaxis1\": {\"domain\": [0.0, 0.45], \"anchor\": \"y3\", \"tickfont\": {\"color\": \"#666666\"}, \"gridcolor\": \"#F6F6F6\", \"titlefont\": {\"color\": \"#666666\"}, \"zerolinecolor\": \"#F6F6F6\", \"showgrid\": true, \"title\": \"Number of Admissions\"}, \"yaxis3\": {\"domain\": [0.0, 0.375], \"anchor\": \"x1\"}, \"xaxis2\": {\"domain\": [0.55, 1.0], \"anchor\": \"y4\"}, \"annotations\": [{\"y\": 1.0, \"xref\": \"paper\", \"x\": 0.22499999999999998, \"yref\": \"paper\", \"text\": \"AWSSI\", \"showarrow\": false, \"font\": {\"size\": 16}, \"xanchor\": \"center\", \"yanchor\": \"bottom\"}, {\"y\": 1.0, \"xref\": \"paper\", \"x\": 0.7749999999999999, \"yref\": \"paper\", \"text\": \"TempScore\", \"showarrow\": false, \"font\": {\"size\": 16}, \"xanchor\": \"center\", \"yanchor\": \"bottom\"}, {\"y\": 0.375, \"xref\": \"paper\", \"x\": 0.22499999999999998, \"yref\": \"paper\", \"text\": \"SnowScore\", \"showarrow\": false, \"font\": {\"size\": 16}, \"xanchor\": \"center\", \"yanchor\": \"bottom\"}], \"legend\": {\"bgcolor\": \"#FFFFFF\", \"font\": {\"color\": \"#666666\"}}, \"paper_bgcolor\": \"#FFFFFF\", \"plot_bgcolor\": \"#E5E5E5\", \"titlefont\": {\"color\": \"#151516\"}, \"title\": \"Features: Winter Index and Temperature, Snow Components. Target: Total Alcoholism Admissions.\", \"width\": 1116, \"height\": 800}, {\"showLink\": true, \"linkText\": \"Export to plot.ly\"})});</script>"
      ]
     },
     "metadata": {},
     "output_type": "display_data"
    }
   ],
   "source": [
    "# Index related features\n",
    "dfindex = df [['total_admits', 'AWSSI', 'TempScore', 'SnowScore']]\n",
    "dfindex = dfindex.set_index(['total_admits'])\n",
    "fig1 = dfindex.iplot(colors=['#08519c', '#3182bd', '#85929e'], kind='scatter', mode='markers', subplots=True, subplot_titles=True, shared_xaxes=True, title='Features: Winter Index and Temperature, Snow Components. Target: Total Alcoholism Admissions.',  xTitle='Number of Admissions', yTitle='Index', dimensions=(1116, 800), asFigure=True)\n",
    "pyo.iplot(fig1)"
   ]
  },
  {
   "cell_type": "markdown",
   "metadata": {},
   "source": [
    "More evidence of the feature/target relationship was apparent when feature line charts were combined with a target bar chart. One dip in admissions between 2001 and 2006 tracked moderately with a spike in winter severity for the years 2003 to 2005. A dip in winter severity for the years 2006 to 2008 coincided with an increase in admissions for those years."
   ]
  },
  {
   "cell_type": "code",
   "execution_count": 11,
   "metadata": {},
   "outputs": [
    {
     "data": {
      "application/vnd.plotly.v1+json": {
       "data": [
        {
         "line": {
          "color": "rgba(52, 73, 94, 1.0)",
          "dash": "solid",
          "width": 4
         },
         "mode": "lines",
         "name": "AWSSI",
         "text": "",
         "type": "scatter",
         "x": [
          "1992",
          "1993",
          "1994",
          "1995",
          "1996",
          "1997",
          "1998",
          "1999",
          "2000",
          "2001",
          "2002",
          "2003",
          "2004",
          "2005",
          "2006",
          "2007",
          "2008",
          "2009",
          "2010",
          "2011",
          "2012",
          "2013",
          "2014"
         ],
         "xaxis": "x1",
         "y": [
          440,
          788,
          1052,
          369,
          1090,
          501,
          447,
          443,
          531,
          929,
          313,
          1196,
          674,
          1012,
          510,
          413,
          595,
          805,
          563,
          998,
          260,
          627,
          892
         ],
         "yaxis": "y2"
        },
        {
         "line": {
          "color": "rgba(133, 146, 158, 1.0)",
          "dash": "solid",
          "width": 3
         },
         "mode": "lines",
         "name": "TempScore",
         "text": "",
         "type": "scatter",
         "x": [
          "1992",
          "1993",
          "1994",
          "1995",
          "1996",
          "1997",
          "1998",
          "1999",
          "2000",
          "2001",
          "2002",
          "2003",
          "2004",
          "2005",
          "2006",
          "2007",
          "2008",
          "2009",
          "2010",
          "2011",
          "2012",
          "2013",
          "2014"
         ],
         "xaxis": "x1",
         "y": [
          335,
          364,
          426,
          279,
          400,
          282,
          202,
          245,
          300,
          373,
          181,
          482,
          414,
          350,
          286,
          311,
          290,
          369,
          247,
          326,
          176,
          235,
          437
         ],
         "yaxis": "y2"
        },
        {
         "line": {
          "color": "rgba(204, 209, 209, 1.0)",
          "dash": "solid",
          "width": 3
         },
         "mode": "lines",
         "name": "SnowScore",
         "text": "",
         "type": "scatter",
         "x": [
          "1992",
          "1993",
          "1994",
          "1995",
          "1996",
          "1997",
          "1998",
          "1999",
          "2000",
          "2001",
          "2002",
          "2003",
          "2004",
          "2005",
          "2006",
          "2007",
          "2008",
          "2009",
          "2010",
          "2011",
          "2012",
          "2013",
          "2014"
         ],
         "xaxis": "x1",
         "y": [
          105,
          424,
          626,
          90,
          690,
          219,
          245,
          198,
          231,
          556,
          132,
          714,
          260,
          662,
          224,
          102,
          305,
          436,
          316,
          672,
          84,
          392,
          455
         ],
         "yaxis": "y2"
        },
        {
         "marker": {
          "color": "rgba(8, 81, 156, 0.6)",
          "line": {
           "color": "rgba(8, 81, 156, 1.0)",
           "width": 1
          }
         },
         "name": "total_admits",
         "orientation": "v",
         "text": "",
         "type": "bar",
         "x": [
          "1992",
          "1993",
          "1994",
          "1995",
          "1996",
          "1997",
          "1998",
          "1999",
          "2000",
          "2001",
          "2002",
          "2003",
          "2004",
          "2005",
          "2006",
          "2007",
          "2008",
          "2009",
          "2010",
          "2011",
          "2012",
          "2013",
          "2014"
         ],
         "y": [
          29526,
          31541,
          32210,
          33411,
          34559,
          35083,
          32965,
          30886,
          28948,
          26727,
          22669,
          18215,
          20421,
          20734,
          37349,
          36571,
          32373,
          32062,
          31177,
          29697,
          30003,
          28819,
          27595
         ]
        }
       ],
       "layout": {
        "legend": {
         "bgcolor": "#FFFFFF",
         "font": {
          "color": "#666666"
         }
        },
        "paper_bgcolor": "#FFFFFF",
        "plot_bgcolor": "#FFFFFF",
        "title": "Features: Winter Severity Index & Components. Target: Total Alcoholism Admissions",
        "titlefont": {
         "color": "#7f7f7f",
         "family": "Verdana",
         "size": 15
        },
        "xaxis1": {
         "gridcolor": "#FFFFFF",
         "showgrid": true,
         "tickfont": {
          "color": "#666666"
         },
         "title": "Year",
         "titlefont": {
          "color": "#666666"
         },
         "zerolinecolor": "#F6F6F6"
        },
        "yaxis2": {
         "anchor": "x1",
         "gridcolor": "#FFFFFF",
         "overlaying": "y1",
         "showgrid": true,
         "side": "right",
         "tickfont": {
          "color": "#666666"
         },
         "title": "",
         "titlefont": {
          "color": "#666666"
         },
         "zerolinecolor": "#F6F6F6"
        }
       }
      },
      "text/html": [
       "<div id=\"7c8fd5cf-1a61-40f1-8822-10cafc714c94\" style=\"height: 525px; width: 100%;\" class=\"plotly-graph-div\"></div><script type=\"text/javascript\">require([\"plotly\"], function(Plotly) { window.PLOTLYENV=window.PLOTLYENV || {};window.PLOTLYENV.BASE_URL=\"https://plot.ly\";Plotly.newPlot(\"7c8fd5cf-1a61-40f1-8822-10cafc714c94\", [{\"type\": \"scatter\", \"x\": [\"1992\", \"1993\", \"1994\", \"1995\", \"1996\", \"1997\", \"1998\", \"1999\", \"2000\", \"2001\", \"2002\", \"2003\", \"2004\", \"2005\", \"2006\", \"2007\", \"2008\", \"2009\", \"2010\", \"2011\", \"2012\", \"2013\", \"2014\"], \"y\": [440, 788, 1052, 369, 1090, 501, 447, 443, 531, 929, 313, 1196, 674, 1012, 510, 413, 595, 805, 563, 998, 260, 627, 892], \"name\": \"AWSSI\", \"text\": \"\", \"line\": {\"color\": \"rgba(52, 73, 94, 1.0)\", \"width\": 4, \"dash\": \"solid\"}, \"mode\": \"lines\", \"xaxis\": \"x1\", \"yaxis\": \"y2\"}, {\"type\": \"scatter\", \"x\": [\"1992\", \"1993\", \"1994\", \"1995\", \"1996\", \"1997\", \"1998\", \"1999\", \"2000\", \"2001\", \"2002\", \"2003\", \"2004\", \"2005\", \"2006\", \"2007\", \"2008\", \"2009\", \"2010\", \"2011\", \"2012\", \"2013\", \"2014\"], \"y\": [335, 364, 426, 279, 400, 282, 202, 245, 300, 373, 181, 482, 414, 350, 286, 311, 290, 369, 247, 326, 176, 235, 437], \"name\": \"TempScore\", \"text\": \"\", \"line\": {\"color\": \"rgba(133, 146, 158, 1.0)\", \"width\": 3, \"dash\": \"solid\"}, \"mode\": \"lines\", \"xaxis\": \"x1\", \"yaxis\": \"y2\"}, {\"type\": \"scatter\", \"x\": [\"1992\", \"1993\", \"1994\", \"1995\", \"1996\", \"1997\", \"1998\", \"1999\", \"2000\", \"2001\", \"2002\", \"2003\", \"2004\", \"2005\", \"2006\", \"2007\", \"2008\", \"2009\", \"2010\", \"2011\", \"2012\", \"2013\", \"2014\"], \"y\": [105, 424, 626, 90, 690, 219, 245, 198, 231, 556, 132, 714, 260, 662, 224, 102, 305, 436, 316, 672, 84, 392, 455], \"name\": \"SnowScore\", \"text\": \"\", \"line\": {\"color\": \"rgba(204, 209, 209, 1.0)\", \"width\": 3, \"dash\": \"solid\"}, \"mode\": \"lines\", \"xaxis\": \"x1\", \"yaxis\": \"y2\"}, {\"type\": \"bar\", \"x\": [\"1992\", \"1993\", \"1994\", \"1995\", \"1996\", \"1997\", \"1998\", \"1999\", \"2000\", \"2001\", \"2002\", \"2003\", \"2004\", \"2005\", \"2006\", \"2007\", \"2008\", \"2009\", \"2010\", \"2011\", \"2012\", \"2013\", \"2014\"], \"y\": [29526, 31541, 32210, 33411, 34559, 35083, 32965, 30886, 28948, 26727, 22669, 18215, 20421, 20734, 37349, 36571, 32373, 32062, 31177, 29697, 30003, 28819, 27595], \"name\": \"total_admits\", \"text\": \"\", \"marker\": {\"color\": \"rgba(8, 81, 156, 0.6)\", \"line\": {\"color\": \"rgba(8, 81, 156, 1.0)\", \"width\": 1}}, \"orientation\": \"v\"}], {\"legend\": {\"bgcolor\": \"#FFFFFF\", \"font\": {\"color\": \"#666666\"}}, \"paper_bgcolor\": \"#FFFFFF\", \"plot_bgcolor\": \"#FFFFFF\", \"xaxis1\": {\"tickfont\": {\"color\": \"#666666\"}, \"gridcolor\": \"#FFFFFF\", \"titlefont\": {\"color\": \"#666666\"}, \"zerolinecolor\": \"#F6F6F6\", \"showgrid\": true, \"title\": \"Year\"}, \"titlefont\": {\"color\": \"#7f7f7f\", \"family\": \"Verdana\", \"size\": 15}, \"title\": \"Features: Winter Severity Index & Components. Target: Total Alcoholism Admissions\", \"yaxis2\": {\"tickfont\": {\"color\": \"#666666\"}, \"gridcolor\": \"#FFFFFF\", \"titlefont\": {\"color\": \"#666666\"}, \"zerolinecolor\": \"#F6F6F6\", \"showgrid\": true, \"title\": \"\", \"overlaying\": \"y1\", \"side\": \"right\", \"anchor\": \"x1\"}}, {\"showLink\": true, \"linkText\": \"Export to plot.ly\"})});</script>"
      ],
      "text/vnd.plotly.v1+html": [
       "<div id=\"7c8fd5cf-1a61-40f1-8822-10cafc714c94\" style=\"height: 525px; width: 100%;\" class=\"plotly-graph-div\"></div><script type=\"text/javascript\">require([\"plotly\"], function(Plotly) { window.PLOTLYENV=window.PLOTLYENV || {};window.PLOTLYENV.BASE_URL=\"https://plot.ly\";Plotly.newPlot(\"7c8fd5cf-1a61-40f1-8822-10cafc714c94\", [{\"type\": \"scatter\", \"x\": [\"1992\", \"1993\", \"1994\", \"1995\", \"1996\", \"1997\", \"1998\", \"1999\", \"2000\", \"2001\", \"2002\", \"2003\", \"2004\", \"2005\", \"2006\", \"2007\", \"2008\", \"2009\", \"2010\", \"2011\", \"2012\", \"2013\", \"2014\"], \"y\": [440, 788, 1052, 369, 1090, 501, 447, 443, 531, 929, 313, 1196, 674, 1012, 510, 413, 595, 805, 563, 998, 260, 627, 892], \"name\": \"AWSSI\", \"text\": \"\", \"line\": {\"color\": \"rgba(52, 73, 94, 1.0)\", \"width\": 4, \"dash\": \"solid\"}, \"mode\": \"lines\", \"xaxis\": \"x1\", \"yaxis\": \"y2\"}, {\"type\": \"scatter\", \"x\": [\"1992\", \"1993\", \"1994\", \"1995\", \"1996\", \"1997\", \"1998\", \"1999\", \"2000\", \"2001\", \"2002\", \"2003\", \"2004\", \"2005\", \"2006\", \"2007\", \"2008\", \"2009\", \"2010\", \"2011\", \"2012\", \"2013\", \"2014\"], \"y\": [335, 364, 426, 279, 400, 282, 202, 245, 300, 373, 181, 482, 414, 350, 286, 311, 290, 369, 247, 326, 176, 235, 437], \"name\": \"TempScore\", \"text\": \"\", \"line\": {\"color\": \"rgba(133, 146, 158, 1.0)\", \"width\": 3, \"dash\": \"solid\"}, \"mode\": \"lines\", \"xaxis\": \"x1\", \"yaxis\": \"y2\"}, {\"type\": \"scatter\", \"x\": [\"1992\", \"1993\", \"1994\", \"1995\", \"1996\", \"1997\", \"1998\", \"1999\", \"2000\", \"2001\", \"2002\", \"2003\", \"2004\", \"2005\", \"2006\", \"2007\", \"2008\", \"2009\", \"2010\", \"2011\", \"2012\", \"2013\", \"2014\"], \"y\": [105, 424, 626, 90, 690, 219, 245, 198, 231, 556, 132, 714, 260, 662, 224, 102, 305, 436, 316, 672, 84, 392, 455], \"name\": \"SnowScore\", \"text\": \"\", \"line\": {\"color\": \"rgba(204, 209, 209, 1.0)\", \"width\": 3, \"dash\": \"solid\"}, \"mode\": \"lines\", \"xaxis\": \"x1\", \"yaxis\": \"y2\"}, {\"type\": \"bar\", \"x\": [\"1992\", \"1993\", \"1994\", \"1995\", \"1996\", \"1997\", \"1998\", \"1999\", \"2000\", \"2001\", \"2002\", \"2003\", \"2004\", \"2005\", \"2006\", \"2007\", \"2008\", \"2009\", \"2010\", \"2011\", \"2012\", \"2013\", \"2014\"], \"y\": [29526, 31541, 32210, 33411, 34559, 35083, 32965, 30886, 28948, 26727, 22669, 18215, 20421, 20734, 37349, 36571, 32373, 32062, 31177, 29697, 30003, 28819, 27595], \"name\": \"total_admits\", \"text\": \"\", \"marker\": {\"color\": \"rgba(8, 81, 156, 0.6)\", \"line\": {\"color\": \"rgba(8, 81, 156, 1.0)\", \"width\": 1}}, \"orientation\": \"v\"}], {\"legend\": {\"bgcolor\": \"#FFFFFF\", \"font\": {\"color\": \"#666666\"}}, \"paper_bgcolor\": \"#FFFFFF\", \"plot_bgcolor\": \"#FFFFFF\", \"xaxis1\": {\"tickfont\": {\"color\": \"#666666\"}, \"gridcolor\": \"#FFFFFF\", \"titlefont\": {\"color\": \"#666666\"}, \"zerolinecolor\": \"#F6F6F6\", \"showgrid\": true, \"title\": \"Year\"}, \"titlefont\": {\"color\": \"#7f7f7f\", \"family\": \"Verdana\", \"size\": 15}, \"title\": \"Features: Winter Severity Index & Components. Target: Total Alcoholism Admissions\", \"yaxis2\": {\"tickfont\": {\"color\": \"#666666\"}, \"gridcolor\": \"#FFFFFF\", \"titlefont\": {\"color\": \"#666666\"}, \"zerolinecolor\": \"#F6F6F6\", \"showgrid\": true, \"title\": \"\", \"overlaying\": \"y1\", \"side\": \"right\", \"anchor\": \"x1\"}}, {\"showLink\": true, \"linkText\": \"Export to plot.ly\"})});</script>"
      ]
     },
     "metadata": {},
     "output_type": "display_data"
    }
   ],
   "source": [
    "df = df.set_index(['YEAR'], drop = False)\n",
    "import cufflinks as cf\n",
    "cf.set_config_file(offline=False, world_readable=True, theme='ggplot')\n",
    "# Make bar chart of main target (Total admissions) overlayed with line charts of main Index related features\n",
    "\n",
    "\n",
    "fig1 = df.iplot(columns=['total_admits'], colors=['#08519c'], kind='bar', gridcolor='#FFFFFF', asFigure=True)\n",
    "fig2 = df.iplot(columns=['AWSSI', 'TempScore', 'SnowScore'], colors=['#34495e', '#85929e', '#ccd1d1'], width=[4, 3, 3], title='Features: Winter Severity Index & Components. Target: Total Alcoholism Admissions',  xTitle='Year', yTitle='Admissions', secondary_y=['AWSSI','TempScore', 'SnowScore'], gridcolor='#FFFFFF', asFigure=True)\n",
    "fig2['data'].extend(fig1['data'])\n",
    "fig2['layout'].update(titlefont=dict(\n",
    "            family='Verdana',\n",
    "            size=15,\n",
    "            color='#7f7f7f'\n",
    "            ),\n",
    "            paper_bgcolor='#FFFFFF', plot_bgcolor='#FFFFFF')\n",
    "pyo.iplot(fig2)"
   ]
  },
  {
   "cell_type": "markdown",
   "metadata": {},
   "source": [
    "Replacing the main target bars on these charts with stacked bars showing the components of the demographic classifications (i.e., female stacked on male, black stacked on white), there was no evidence of differential winter effects for different subgroups. Instead, changes in the demographic breakdowns over years were likely the result of other, independent trends affecting the overall population. For example, the percent of people admitted for alcoholism who were unemployed grew markedly after 2007, no doubt due to the increases in unemployment in the overall population during the Great Recession."
   ]
  },
  {
   "cell_type": "code",
   "execution_count": 12,
   "metadata": {},
   "outputs": [
    {
     "data": {
      "application/vnd.plotly.v1+json": {
       "data": [
        {
         "line": {
          "color": "rgba(133, 146, 158, 1.0)",
          "dash": "solid",
          "width": 3
         },
         "mode": "lines",
         "name": "TempScore",
         "text": "",
         "type": "scatter",
         "x": [
          "1992",
          "1993",
          "1994",
          "1995",
          "1996",
          "1997",
          "1998",
          "1999",
          "2000",
          "2001",
          "2002",
          "2003",
          "2004",
          "2005",
          "2006",
          "2007",
          "2008",
          "2009",
          "2010",
          "2011",
          "2012",
          "2013",
          "2014"
         ],
         "xaxis": "x1",
         "y": [
          335,
          364,
          426,
          279,
          400,
          282,
          202,
          245,
          300,
          373,
          181,
          482,
          414,
          350,
          286,
          311,
          290,
          369,
          247,
          326,
          176,
          235,
          437
         ],
         "yaxis": "y2"
        },
        {
         "line": {
          "color": "rgba(204, 209, 209, 1.0)",
          "dash": "solid",
          "width": 3
         },
         "mode": "lines",
         "name": "SnowScore",
         "text": "",
         "type": "scatter",
         "x": [
          "1992",
          "1993",
          "1994",
          "1995",
          "1996",
          "1997",
          "1998",
          "1999",
          "2000",
          "2001",
          "2002",
          "2003",
          "2004",
          "2005",
          "2006",
          "2007",
          "2008",
          "2009",
          "2010",
          "2011",
          "2012",
          "2013",
          "2014"
         ],
         "xaxis": "x1",
         "y": [
          105,
          424,
          626,
          90,
          690,
          219,
          245,
          198,
          231,
          556,
          132,
          714,
          260,
          662,
          224,
          102,
          305,
          436,
          316,
          672,
          84,
          392,
          455
         ],
         "yaxis": "y2"
        },
        {
         "line": {
          "color": "rgba(52, 73, 94, 1.0)",
          "dash": "solid",
          "width": 4
         },
         "mode": "lines",
         "name": "AWSSI",
         "text": "",
         "type": "scatter",
         "x": [
          "1992",
          "1993",
          "1994",
          "1995",
          "1996",
          "1997",
          "1998",
          "1999",
          "2000",
          "2001",
          "2002",
          "2003",
          "2004",
          "2005",
          "2006",
          "2007",
          "2008",
          "2009",
          "2010",
          "2011",
          "2012",
          "2013",
          "2014"
         ],
         "xaxis": "x1",
         "y": [
          440,
          788,
          1052,
          369,
          1090,
          501,
          447,
          443,
          531,
          929,
          313,
          1196,
          674,
          1012,
          510,
          413,
          595,
          805,
          563,
          998,
          260,
          627,
          892
         ],
         "yaxis": "y2"
        },
        {
         "marker": {
          "color": "rgba(8, 81, 156, 0.6)",
          "line": {
           "color": "rgba(8, 81, 156, 1.0)",
           "width": 1
          }
         },
         "name": "male",
         "orientation": "v",
         "text": "",
         "type": "bar",
         "x": [
          "1992",
          "1993",
          "1994",
          "1995",
          "1996",
          "1997",
          "1998",
          "1999",
          "2000",
          "2001",
          "2002",
          "2003",
          "2004",
          "2005",
          "2006",
          "2007",
          "2008",
          "2009",
          "2010",
          "2011",
          "2012",
          "2013",
          "2014"
         ],
         "y": [
          22460,
          24161,
          24770,
          25574,
          26205,
          26633,
          25099,
          23280,
          21904,
          20228,
          17566,
          13412,
          15187,
          15469,
          27221,
          26416,
          23351,
          23484,
          22536,
          21410,
          21502,
          20352,
          19490
         ]
        },
        {
         "marker": {
          "color": "rgba(49, 130, 189, 0.6)",
          "line": {
           "color": "rgba(49, 130, 189, 1.0)",
           "width": 1
          }
         },
         "name": "female",
         "orientation": "v",
         "text": "",
         "type": "bar",
         "x": [
          "1992",
          "1993",
          "1994",
          "1995",
          "1996",
          "1997",
          "1998",
          "1999",
          "2000",
          "2001",
          "2002",
          "2003",
          "2004",
          "2005",
          "2006",
          "2007",
          "2008",
          "2009",
          "2010",
          "2011",
          "2012",
          "2013",
          "2014"
         ],
         "y": [
          7066,
          7380,
          7440,
          7837,
          8354,
          8450,
          7866,
          7606,
          7044,
          6499,
          5103,
          4803,
          5234,
          5265,
          10128,
          10155,
          9022,
          8578,
          8641,
          8287,
          8501,
          8467,
          8105
         ]
        }
       ],
       "layout": {
        "barmode": "stack",
        "legend": {
         "bgcolor": "#FFFFFF",
         "font": {
          "color": "#666666"
         }
        },
        "paper_bgcolor": "#FFFFFF",
        "plot_bgcolor": "#FFFFFF",
        "title": "Winter Severity Index and Alcoholism Admissions by Gender",
        "titlefont": {
         "color": "#7f7f7f",
         "family": "Verdana",
         "size": 15
        },
        "xaxis1": {
         "gridcolor": "#FFFFFF",
         "showgrid": true,
         "tickfont": {
          "color": "#666666"
         },
         "title": "Year",
         "titlefont": {
          "color": "#666666"
         },
         "zerolinecolor": "#F6F6F6"
        },
        "yaxis2": {
         "anchor": "x1",
         "gridcolor": "#FFFFFF",
         "overlaying": "y1",
         "showgrid": true,
         "side": "right",
         "tickfont": {
          "color": "#666666"
         },
         "title": "",
         "titlefont": {
          "color": "#666666"
         },
         "zerolinecolor": "#F6F6F6"
        }
       }
      },
      "text/html": [
       "<div id=\"e79eb17d-730b-4cf4-a55e-995ce246f0b8\" style=\"height: 525px; width: 100%;\" class=\"plotly-graph-div\"></div><script type=\"text/javascript\">require([\"plotly\"], function(Plotly) { window.PLOTLYENV=window.PLOTLYENV || {};window.PLOTLYENV.BASE_URL=\"https://plot.ly\";Plotly.newPlot(\"e79eb17d-730b-4cf4-a55e-995ce246f0b8\", [{\"type\": \"scatter\", \"x\": [\"1992\", \"1993\", \"1994\", \"1995\", \"1996\", \"1997\", \"1998\", \"1999\", \"2000\", \"2001\", \"2002\", \"2003\", \"2004\", \"2005\", \"2006\", \"2007\", \"2008\", \"2009\", \"2010\", \"2011\", \"2012\", \"2013\", \"2014\"], \"y\": [335, 364, 426, 279, 400, 282, 202, 245, 300, 373, 181, 482, 414, 350, 286, 311, 290, 369, 247, 326, 176, 235, 437], \"name\": \"TempScore\", \"text\": \"\", \"line\": {\"color\": \"rgba(133, 146, 158, 1.0)\", \"width\": 3, \"dash\": \"solid\"}, \"mode\": \"lines\", \"xaxis\": \"x1\", \"yaxis\": \"y2\"}, {\"type\": \"scatter\", \"x\": [\"1992\", \"1993\", \"1994\", \"1995\", \"1996\", \"1997\", \"1998\", \"1999\", \"2000\", \"2001\", \"2002\", \"2003\", \"2004\", \"2005\", \"2006\", \"2007\", \"2008\", \"2009\", \"2010\", \"2011\", \"2012\", \"2013\", \"2014\"], \"y\": [105, 424, 626, 90, 690, 219, 245, 198, 231, 556, 132, 714, 260, 662, 224, 102, 305, 436, 316, 672, 84, 392, 455], \"name\": \"SnowScore\", \"text\": \"\", \"line\": {\"color\": \"rgba(204, 209, 209, 1.0)\", \"width\": 3, \"dash\": \"solid\"}, \"mode\": \"lines\", \"xaxis\": \"x1\", \"yaxis\": \"y2\"}, {\"type\": \"scatter\", \"x\": [\"1992\", \"1993\", \"1994\", \"1995\", \"1996\", \"1997\", \"1998\", \"1999\", \"2000\", \"2001\", \"2002\", \"2003\", \"2004\", \"2005\", \"2006\", \"2007\", \"2008\", \"2009\", \"2010\", \"2011\", \"2012\", \"2013\", \"2014\"], \"y\": [440, 788, 1052, 369, 1090, 501, 447, 443, 531, 929, 313, 1196, 674, 1012, 510, 413, 595, 805, 563, 998, 260, 627, 892], \"name\": \"AWSSI\", \"text\": \"\", \"line\": {\"color\": \"rgba(52, 73, 94, 1.0)\", \"width\": 4, \"dash\": \"solid\"}, \"mode\": \"lines\", \"xaxis\": \"x1\", \"yaxis\": \"y2\"}, {\"type\": \"bar\", \"x\": [\"1992\", \"1993\", \"1994\", \"1995\", \"1996\", \"1997\", \"1998\", \"1999\", \"2000\", \"2001\", \"2002\", \"2003\", \"2004\", \"2005\", \"2006\", \"2007\", \"2008\", \"2009\", \"2010\", \"2011\", \"2012\", \"2013\", \"2014\"], \"y\": [22460, 24161, 24770, 25574, 26205, 26633, 25099, 23280, 21904, 20228, 17566, 13412, 15187, 15469, 27221, 26416, 23351, 23484, 22536, 21410, 21502, 20352, 19490], \"name\": \"male\", \"text\": \"\", \"marker\": {\"color\": \"rgba(8, 81, 156, 0.6)\", \"line\": {\"color\": \"rgba(8, 81, 156, 1.0)\", \"width\": 1}}, \"orientation\": \"v\"}, {\"type\": \"bar\", \"x\": [\"1992\", \"1993\", \"1994\", \"1995\", \"1996\", \"1997\", \"1998\", \"1999\", \"2000\", \"2001\", \"2002\", \"2003\", \"2004\", \"2005\", \"2006\", \"2007\", \"2008\", \"2009\", \"2010\", \"2011\", \"2012\", \"2013\", \"2014\"], \"y\": [7066, 7380, 7440, 7837, 8354, 8450, 7866, 7606, 7044, 6499, 5103, 4803, 5234, 5265, 10128, 10155, 9022, 8578, 8641, 8287, 8501, 8467, 8105], \"name\": \"female\", \"text\": \"\", \"marker\": {\"color\": \"rgba(49, 130, 189, 0.6)\", \"line\": {\"color\": \"rgba(49, 130, 189, 1.0)\", \"width\": 1}}, \"orientation\": \"v\"}], {\"legend\": {\"bgcolor\": \"#FFFFFF\", \"font\": {\"color\": \"#666666\"}}, \"paper_bgcolor\": \"#FFFFFF\", \"plot_bgcolor\": \"#FFFFFF\", \"xaxis1\": {\"tickfont\": {\"color\": \"#666666\"}, \"gridcolor\": \"#FFFFFF\", \"titlefont\": {\"color\": \"#666666\"}, \"zerolinecolor\": \"#F6F6F6\", \"showgrid\": true, \"title\": \"Year\"}, \"titlefont\": {\"color\": \"#7f7f7f\", \"family\": \"Verdana\", \"size\": 15}, \"title\": \"Winter Severity Index and Alcoholism Admissions by Gender\", \"yaxis2\": {\"tickfont\": {\"color\": \"#666666\"}, \"gridcolor\": \"#FFFFFF\", \"titlefont\": {\"color\": \"#666666\"}, \"zerolinecolor\": \"#F6F6F6\", \"showgrid\": true, \"title\": \"\", \"overlaying\": \"y1\", \"side\": \"right\", \"anchor\": \"x1\"}, \"barmode\": \"stack\"}, {\"showLink\": true, \"linkText\": \"Export to plot.ly\"})});</script>"
      ],
      "text/vnd.plotly.v1+html": [
       "<div id=\"e79eb17d-730b-4cf4-a55e-995ce246f0b8\" style=\"height: 525px; width: 100%;\" class=\"plotly-graph-div\"></div><script type=\"text/javascript\">require([\"plotly\"], function(Plotly) { window.PLOTLYENV=window.PLOTLYENV || {};window.PLOTLYENV.BASE_URL=\"https://plot.ly\";Plotly.newPlot(\"e79eb17d-730b-4cf4-a55e-995ce246f0b8\", [{\"type\": \"scatter\", \"x\": [\"1992\", \"1993\", \"1994\", \"1995\", \"1996\", \"1997\", \"1998\", \"1999\", \"2000\", \"2001\", \"2002\", \"2003\", \"2004\", \"2005\", \"2006\", \"2007\", \"2008\", \"2009\", \"2010\", \"2011\", \"2012\", \"2013\", \"2014\"], \"y\": [335, 364, 426, 279, 400, 282, 202, 245, 300, 373, 181, 482, 414, 350, 286, 311, 290, 369, 247, 326, 176, 235, 437], \"name\": \"TempScore\", \"text\": \"\", \"line\": {\"color\": \"rgba(133, 146, 158, 1.0)\", \"width\": 3, \"dash\": \"solid\"}, \"mode\": \"lines\", \"xaxis\": \"x1\", \"yaxis\": \"y2\"}, {\"type\": \"scatter\", \"x\": [\"1992\", \"1993\", \"1994\", \"1995\", \"1996\", \"1997\", \"1998\", \"1999\", \"2000\", \"2001\", \"2002\", \"2003\", \"2004\", \"2005\", \"2006\", \"2007\", \"2008\", \"2009\", \"2010\", \"2011\", \"2012\", \"2013\", \"2014\"], \"y\": [105, 424, 626, 90, 690, 219, 245, 198, 231, 556, 132, 714, 260, 662, 224, 102, 305, 436, 316, 672, 84, 392, 455], \"name\": \"SnowScore\", \"text\": \"\", \"line\": {\"color\": \"rgba(204, 209, 209, 1.0)\", \"width\": 3, \"dash\": \"solid\"}, \"mode\": \"lines\", \"xaxis\": \"x1\", \"yaxis\": \"y2\"}, {\"type\": \"scatter\", \"x\": [\"1992\", \"1993\", \"1994\", \"1995\", \"1996\", \"1997\", \"1998\", \"1999\", \"2000\", \"2001\", \"2002\", \"2003\", \"2004\", \"2005\", \"2006\", \"2007\", \"2008\", \"2009\", \"2010\", \"2011\", \"2012\", \"2013\", \"2014\"], \"y\": [440, 788, 1052, 369, 1090, 501, 447, 443, 531, 929, 313, 1196, 674, 1012, 510, 413, 595, 805, 563, 998, 260, 627, 892], \"name\": \"AWSSI\", \"text\": \"\", \"line\": {\"color\": \"rgba(52, 73, 94, 1.0)\", \"width\": 4, \"dash\": \"solid\"}, \"mode\": \"lines\", \"xaxis\": \"x1\", \"yaxis\": \"y2\"}, {\"type\": \"bar\", \"x\": [\"1992\", \"1993\", \"1994\", \"1995\", \"1996\", \"1997\", \"1998\", \"1999\", \"2000\", \"2001\", \"2002\", \"2003\", \"2004\", \"2005\", \"2006\", \"2007\", \"2008\", \"2009\", \"2010\", \"2011\", \"2012\", \"2013\", \"2014\"], \"y\": [22460, 24161, 24770, 25574, 26205, 26633, 25099, 23280, 21904, 20228, 17566, 13412, 15187, 15469, 27221, 26416, 23351, 23484, 22536, 21410, 21502, 20352, 19490], \"name\": \"male\", \"text\": \"\", \"marker\": {\"color\": \"rgba(8, 81, 156, 0.6)\", \"line\": {\"color\": \"rgba(8, 81, 156, 1.0)\", \"width\": 1}}, \"orientation\": \"v\"}, {\"type\": \"bar\", \"x\": [\"1992\", \"1993\", \"1994\", \"1995\", \"1996\", \"1997\", \"1998\", \"1999\", \"2000\", \"2001\", \"2002\", \"2003\", \"2004\", \"2005\", \"2006\", \"2007\", \"2008\", \"2009\", \"2010\", \"2011\", \"2012\", \"2013\", \"2014\"], \"y\": [7066, 7380, 7440, 7837, 8354, 8450, 7866, 7606, 7044, 6499, 5103, 4803, 5234, 5265, 10128, 10155, 9022, 8578, 8641, 8287, 8501, 8467, 8105], \"name\": \"female\", \"text\": \"\", \"marker\": {\"color\": \"rgba(49, 130, 189, 0.6)\", \"line\": {\"color\": \"rgba(49, 130, 189, 1.0)\", \"width\": 1}}, \"orientation\": \"v\"}], {\"legend\": {\"bgcolor\": \"#FFFFFF\", \"font\": {\"color\": \"#666666\"}}, \"paper_bgcolor\": \"#FFFFFF\", \"plot_bgcolor\": \"#FFFFFF\", \"xaxis1\": {\"tickfont\": {\"color\": \"#666666\"}, \"gridcolor\": \"#FFFFFF\", \"titlefont\": {\"color\": \"#666666\"}, \"zerolinecolor\": \"#F6F6F6\", \"showgrid\": true, \"title\": \"Year\"}, \"titlefont\": {\"color\": \"#7f7f7f\", \"family\": \"Verdana\", \"size\": 15}, \"title\": \"Winter Severity Index and Alcoholism Admissions by Gender\", \"yaxis2\": {\"tickfont\": {\"color\": \"#666666\"}, \"gridcolor\": \"#FFFFFF\", \"titlefont\": {\"color\": \"#666666\"}, \"zerolinecolor\": \"#F6F6F6\", \"showgrid\": true, \"title\": \"\", \"overlaying\": \"y1\", \"side\": \"right\", \"anchor\": \"x1\"}, \"barmode\": \"stack\"}, {\"showLink\": true, \"linkText\": \"Export to plot.ly\"})});</script>"
      ]
     },
     "metadata": {},
     "output_type": "display_data"
    }
   ],
   "source": [
    "# Make stacked bar charts of main demographic subgroups of target, overlaid with a line chart of feature and components\n",
    "\n",
    "fig1 = df.iplot(columns=['male', 'female'], colors=['#08519c', '#3182bd'], kind='bar', gridcolor='#FFFFFF', asFigure=True)\n",
    "fig2 = df.iplot(columns=['TempScore', 'SnowScore', 'AWSSI'], colors=['#85929e', '#ccd1d1', '#34495e'], width=[3, 3, 4], title='Winter Severity Index and Alcoholism Admissions by Gender',  xTitle='Year', yTitle='Admissions', secondary_y=['TempScore', 'SnowScore', 'AWSSI'], gridcolor='#FFFFFF', asFigure=True)\n",
    "fig2['data'].extend(fig1['data'])\n",
    "fig2['layout'].update(barmode='stack', titlefont=dict(\n",
    "            family='Verdana',\n",
    "            size=15,\n",
    "            color='#7f7f7f'\n",
    "            ),\n",
    "            paper_bgcolor='#FFFFFF', plot_bgcolor='#FFFFFF')\n",
    "pyo.iplot(fig2)"
   ]
  },
  {
   "cell_type": "code",
   "execution_count": 13,
   "metadata": {},
   "outputs": [
    {
     "data": {
      "application/vnd.plotly.v1+json": {
       "data": [
        {
         "line": {
          "color": "rgba(133, 146, 158, 1.0)",
          "dash": "solid",
          "width": 3
         },
         "mode": "lines",
         "name": "TempScore",
         "text": "",
         "type": "scatter",
         "x": [
          "1992",
          "1993",
          "1994",
          "1995",
          "1996",
          "1997",
          "1998",
          "1999",
          "2000",
          "2001",
          "2002",
          "2003",
          "2004",
          "2005",
          "2006",
          "2007",
          "2008",
          "2009",
          "2010",
          "2011",
          "2012",
          "2013",
          "2014"
         ],
         "xaxis": "x1",
         "y": [
          335,
          364,
          426,
          279,
          400,
          282,
          202,
          245,
          300,
          373,
          181,
          482,
          414,
          350,
          286,
          311,
          290,
          369,
          247,
          326,
          176,
          235,
          437
         ],
         "yaxis": "y2"
        },
        {
         "line": {
          "color": "rgba(204, 209, 209, 1.0)",
          "dash": "solid",
          "width": 3
         },
         "mode": "lines",
         "name": "SnowScore",
         "text": "",
         "type": "scatter",
         "x": [
          "1992",
          "1993",
          "1994",
          "1995",
          "1996",
          "1997",
          "1998",
          "1999",
          "2000",
          "2001",
          "2002",
          "2003",
          "2004",
          "2005",
          "2006",
          "2007",
          "2008",
          "2009",
          "2010",
          "2011",
          "2012",
          "2013",
          "2014"
         ],
         "xaxis": "x1",
         "y": [
          105,
          424,
          626,
          90,
          690,
          219,
          245,
          198,
          231,
          556,
          132,
          714,
          260,
          662,
          224,
          102,
          305,
          436,
          316,
          672,
          84,
          392,
          455
         ],
         "yaxis": "y2"
        },
        {
         "line": {
          "color": "rgba(52, 73, 94, 1.0)",
          "dash": "solid",
          "width": 4
         },
         "mode": "lines",
         "name": "AWSSI",
         "text": "",
         "type": "scatter",
         "x": [
          "1992",
          "1993",
          "1994",
          "1995",
          "1996",
          "1997",
          "1998",
          "1999",
          "2000",
          "2001",
          "2002",
          "2003",
          "2004",
          "2005",
          "2006",
          "2007",
          "2008",
          "2009",
          "2010",
          "2011",
          "2012",
          "2013",
          "2014"
         ],
         "xaxis": "x1",
         "y": [
          440,
          788,
          1052,
          369,
          1090,
          501,
          447,
          443,
          531,
          929,
          313,
          1196,
          674,
          1012,
          510,
          413,
          595,
          805,
          563,
          998,
          260,
          627,
          892
         ],
         "yaxis": "y2"
        },
        {
         "marker": {
          "color": "rgba(8, 81, 156, 0.6)",
          "line": {
           "color": "rgba(8, 81, 156, 1.0)",
           "width": 1
          }
         },
         "name": "white",
         "orientation": "v",
         "text": "",
         "type": "bar",
         "x": [
          "1992",
          "1993",
          "1994",
          "1995",
          "1996",
          "1997",
          "1998",
          "1999",
          "2000",
          "2001",
          "2002",
          "2003",
          "2004",
          "2005",
          "2006",
          "2007",
          "2008",
          "2009",
          "2010",
          "2011",
          "2012",
          "2013",
          "2014"
         ],
         "y": [
          23985,
          25577,
          25966,
          25781,
          26976,
          28223,
          26130,
          24392,
          22482,
          20624,
          17285,
          13934,
          15592,
          15984,
          29612,
          29190,
          25907,
          25449,
          24641,
          23325,
          23884,
          23057,
          21926
         ]
        },
        {
         "marker": {
          "color": "rgba(49, 130, 189, 0.6)",
          "line": {
           "color": "rgba(49, 130, 189, 1.0)",
           "width": 1
          }
         },
         "name": "black",
         "orientation": "v",
         "text": "",
         "type": "bar",
         "x": [
          "1992",
          "1993",
          "1994",
          "1995",
          "1996",
          "1997",
          "1998",
          "1999",
          "2000",
          "2001",
          "2002",
          "2003",
          "2004",
          "2005",
          "2006",
          "2007",
          "2008",
          "2009",
          "2010",
          "2011",
          "2012",
          "2013",
          "2014"
         ],
         "y": [
          3636,
          3707,
          3736,
          4526,
          4552,
          4075,
          4159,
          4109,
          4028,
          3779,
          3382,
          2571,
          2910,
          2579,
          4081,
          3771,
          3061,
          3118,
          3122,
          2870,
          2653,
          2555,
          2485
         ]
        }
       ],
       "layout": {
        "barmode": "stack",
        "legend": {
         "bgcolor": "#FFFFFF",
         "font": {
          "color": "#666666"
         }
        },
        "paper_bgcolor": "#FFFFFF",
        "plot_bgcolor": "#FFFFFF",
        "title": "Winter Severity Index and Alcoholism Admissions by Race",
        "titlefont": {
         "color": "#7f7f7f",
         "family": "Verdana",
         "size": 15
        },
        "xaxis1": {
         "gridcolor": "#FFFFFF",
         "showgrid": true,
         "tickfont": {
          "color": "#666666"
         },
         "title": "Year",
         "titlefont": {
          "color": "#666666"
         },
         "zerolinecolor": "#F6F6F6"
        },
        "yaxis2": {
         "anchor": "x1",
         "gridcolor": "#FFFFFF",
         "overlaying": "y1",
         "showgrid": true,
         "side": "right",
         "tickfont": {
          "color": "#666666"
         },
         "title": "",
         "titlefont": {
          "color": "#666666"
         },
         "zerolinecolor": "#F6F6F6"
        }
       }
      },
      "text/html": [
       "<div id=\"e0e3ee60-b2f1-4eaf-80dd-edda90ec8576\" style=\"height: 525px; width: 100%;\" class=\"plotly-graph-div\"></div><script type=\"text/javascript\">require([\"plotly\"], function(Plotly) { window.PLOTLYENV=window.PLOTLYENV || {};window.PLOTLYENV.BASE_URL=\"https://plot.ly\";Plotly.newPlot(\"e0e3ee60-b2f1-4eaf-80dd-edda90ec8576\", [{\"type\": \"scatter\", \"x\": [\"1992\", \"1993\", \"1994\", \"1995\", \"1996\", \"1997\", \"1998\", \"1999\", \"2000\", \"2001\", \"2002\", \"2003\", \"2004\", \"2005\", \"2006\", \"2007\", \"2008\", \"2009\", \"2010\", \"2011\", \"2012\", \"2013\", \"2014\"], \"y\": [335, 364, 426, 279, 400, 282, 202, 245, 300, 373, 181, 482, 414, 350, 286, 311, 290, 369, 247, 326, 176, 235, 437], \"name\": \"TempScore\", \"text\": \"\", \"line\": {\"color\": \"rgba(133, 146, 158, 1.0)\", \"width\": 3, \"dash\": \"solid\"}, \"mode\": \"lines\", \"xaxis\": \"x1\", \"yaxis\": \"y2\"}, {\"type\": \"scatter\", \"x\": [\"1992\", \"1993\", \"1994\", \"1995\", \"1996\", \"1997\", \"1998\", \"1999\", \"2000\", \"2001\", \"2002\", \"2003\", \"2004\", \"2005\", \"2006\", \"2007\", \"2008\", \"2009\", \"2010\", \"2011\", \"2012\", \"2013\", \"2014\"], \"y\": [105, 424, 626, 90, 690, 219, 245, 198, 231, 556, 132, 714, 260, 662, 224, 102, 305, 436, 316, 672, 84, 392, 455], \"name\": \"SnowScore\", \"text\": \"\", \"line\": {\"color\": \"rgba(204, 209, 209, 1.0)\", \"width\": 3, \"dash\": \"solid\"}, \"mode\": \"lines\", \"xaxis\": \"x1\", \"yaxis\": \"y2\"}, {\"type\": \"scatter\", \"x\": [\"1992\", \"1993\", \"1994\", \"1995\", \"1996\", \"1997\", \"1998\", \"1999\", \"2000\", \"2001\", \"2002\", \"2003\", \"2004\", \"2005\", \"2006\", \"2007\", \"2008\", \"2009\", \"2010\", \"2011\", \"2012\", \"2013\", \"2014\"], \"y\": [440, 788, 1052, 369, 1090, 501, 447, 443, 531, 929, 313, 1196, 674, 1012, 510, 413, 595, 805, 563, 998, 260, 627, 892], \"name\": \"AWSSI\", \"text\": \"\", \"line\": {\"color\": \"rgba(52, 73, 94, 1.0)\", \"width\": 4, \"dash\": \"solid\"}, \"mode\": \"lines\", \"xaxis\": \"x1\", \"yaxis\": \"y2\"}, {\"type\": \"bar\", \"x\": [\"1992\", \"1993\", \"1994\", \"1995\", \"1996\", \"1997\", \"1998\", \"1999\", \"2000\", \"2001\", \"2002\", \"2003\", \"2004\", \"2005\", \"2006\", \"2007\", \"2008\", \"2009\", \"2010\", \"2011\", \"2012\", \"2013\", \"2014\"], \"y\": [23985, 25577, 25966, 25781, 26976, 28223, 26130, 24392, 22482, 20624, 17285, 13934, 15592, 15984, 29612, 29190, 25907, 25449, 24641, 23325, 23884, 23057, 21926], \"name\": \"white\", \"text\": \"\", \"marker\": {\"color\": \"rgba(8, 81, 156, 0.6)\", \"line\": {\"color\": \"rgba(8, 81, 156, 1.0)\", \"width\": 1}}, \"orientation\": \"v\"}, {\"type\": \"bar\", \"x\": [\"1992\", \"1993\", \"1994\", \"1995\", \"1996\", \"1997\", \"1998\", \"1999\", \"2000\", \"2001\", \"2002\", \"2003\", \"2004\", \"2005\", \"2006\", \"2007\", \"2008\", \"2009\", \"2010\", \"2011\", \"2012\", \"2013\", \"2014\"], \"y\": [3636, 3707, 3736, 4526, 4552, 4075, 4159, 4109, 4028, 3779, 3382, 2571, 2910, 2579, 4081, 3771, 3061, 3118, 3122, 2870, 2653, 2555, 2485], \"name\": \"black\", \"text\": \"\", \"marker\": {\"color\": \"rgba(49, 130, 189, 0.6)\", \"line\": {\"color\": \"rgba(49, 130, 189, 1.0)\", \"width\": 1}}, \"orientation\": \"v\"}], {\"legend\": {\"bgcolor\": \"#FFFFFF\", \"font\": {\"color\": \"#666666\"}}, \"paper_bgcolor\": \"#FFFFFF\", \"plot_bgcolor\": \"#FFFFFF\", \"xaxis1\": {\"tickfont\": {\"color\": \"#666666\"}, \"gridcolor\": \"#FFFFFF\", \"titlefont\": {\"color\": \"#666666\"}, \"zerolinecolor\": \"#F6F6F6\", \"showgrid\": true, \"title\": \"Year\"}, \"titlefont\": {\"color\": \"#7f7f7f\", \"family\": \"Verdana\", \"size\": 15}, \"title\": \"Winter Severity Index and Alcoholism Admissions by Race\", \"yaxis2\": {\"tickfont\": {\"color\": \"#666666\"}, \"gridcolor\": \"#FFFFFF\", \"titlefont\": {\"color\": \"#666666\"}, \"zerolinecolor\": \"#F6F6F6\", \"showgrid\": true, \"title\": \"\", \"overlaying\": \"y1\", \"side\": \"right\", \"anchor\": \"x1\"}, \"barmode\": \"stack\"}, {\"showLink\": true, \"linkText\": \"Export to plot.ly\"})});</script>"
      ],
      "text/vnd.plotly.v1+html": [
       "<div id=\"e0e3ee60-b2f1-4eaf-80dd-edda90ec8576\" style=\"height: 525px; width: 100%;\" class=\"plotly-graph-div\"></div><script type=\"text/javascript\">require([\"plotly\"], function(Plotly) { window.PLOTLYENV=window.PLOTLYENV || {};window.PLOTLYENV.BASE_URL=\"https://plot.ly\";Plotly.newPlot(\"e0e3ee60-b2f1-4eaf-80dd-edda90ec8576\", [{\"type\": \"scatter\", \"x\": [\"1992\", \"1993\", \"1994\", \"1995\", \"1996\", \"1997\", \"1998\", \"1999\", \"2000\", \"2001\", \"2002\", \"2003\", \"2004\", \"2005\", \"2006\", \"2007\", \"2008\", \"2009\", \"2010\", \"2011\", \"2012\", \"2013\", \"2014\"], \"y\": [335, 364, 426, 279, 400, 282, 202, 245, 300, 373, 181, 482, 414, 350, 286, 311, 290, 369, 247, 326, 176, 235, 437], \"name\": \"TempScore\", \"text\": \"\", \"line\": {\"color\": \"rgba(133, 146, 158, 1.0)\", \"width\": 3, \"dash\": \"solid\"}, \"mode\": \"lines\", \"xaxis\": \"x1\", \"yaxis\": \"y2\"}, {\"type\": \"scatter\", \"x\": [\"1992\", \"1993\", \"1994\", \"1995\", \"1996\", \"1997\", \"1998\", \"1999\", \"2000\", \"2001\", \"2002\", \"2003\", \"2004\", \"2005\", \"2006\", \"2007\", \"2008\", \"2009\", \"2010\", \"2011\", \"2012\", \"2013\", \"2014\"], \"y\": [105, 424, 626, 90, 690, 219, 245, 198, 231, 556, 132, 714, 260, 662, 224, 102, 305, 436, 316, 672, 84, 392, 455], \"name\": \"SnowScore\", \"text\": \"\", \"line\": {\"color\": \"rgba(204, 209, 209, 1.0)\", \"width\": 3, \"dash\": \"solid\"}, \"mode\": \"lines\", \"xaxis\": \"x1\", \"yaxis\": \"y2\"}, {\"type\": \"scatter\", \"x\": [\"1992\", \"1993\", \"1994\", \"1995\", \"1996\", \"1997\", \"1998\", \"1999\", \"2000\", \"2001\", \"2002\", \"2003\", \"2004\", \"2005\", \"2006\", \"2007\", \"2008\", \"2009\", \"2010\", \"2011\", \"2012\", \"2013\", \"2014\"], \"y\": [440, 788, 1052, 369, 1090, 501, 447, 443, 531, 929, 313, 1196, 674, 1012, 510, 413, 595, 805, 563, 998, 260, 627, 892], \"name\": \"AWSSI\", \"text\": \"\", \"line\": {\"color\": \"rgba(52, 73, 94, 1.0)\", \"width\": 4, \"dash\": \"solid\"}, \"mode\": \"lines\", \"xaxis\": \"x1\", \"yaxis\": \"y2\"}, {\"type\": \"bar\", \"x\": [\"1992\", \"1993\", \"1994\", \"1995\", \"1996\", \"1997\", \"1998\", \"1999\", \"2000\", \"2001\", \"2002\", \"2003\", \"2004\", \"2005\", \"2006\", \"2007\", \"2008\", \"2009\", \"2010\", \"2011\", \"2012\", \"2013\", \"2014\"], \"y\": [23985, 25577, 25966, 25781, 26976, 28223, 26130, 24392, 22482, 20624, 17285, 13934, 15592, 15984, 29612, 29190, 25907, 25449, 24641, 23325, 23884, 23057, 21926], \"name\": \"white\", \"text\": \"\", \"marker\": {\"color\": \"rgba(8, 81, 156, 0.6)\", \"line\": {\"color\": \"rgba(8, 81, 156, 1.0)\", \"width\": 1}}, \"orientation\": \"v\"}, {\"type\": \"bar\", \"x\": [\"1992\", \"1993\", \"1994\", \"1995\", \"1996\", \"1997\", \"1998\", \"1999\", \"2000\", \"2001\", \"2002\", \"2003\", \"2004\", \"2005\", \"2006\", \"2007\", \"2008\", \"2009\", \"2010\", \"2011\", \"2012\", \"2013\", \"2014\"], \"y\": [3636, 3707, 3736, 4526, 4552, 4075, 4159, 4109, 4028, 3779, 3382, 2571, 2910, 2579, 4081, 3771, 3061, 3118, 3122, 2870, 2653, 2555, 2485], \"name\": \"black\", \"text\": \"\", \"marker\": {\"color\": \"rgba(49, 130, 189, 0.6)\", \"line\": {\"color\": \"rgba(49, 130, 189, 1.0)\", \"width\": 1}}, \"orientation\": \"v\"}], {\"legend\": {\"bgcolor\": \"#FFFFFF\", \"font\": {\"color\": \"#666666\"}}, \"paper_bgcolor\": \"#FFFFFF\", \"plot_bgcolor\": \"#FFFFFF\", \"xaxis1\": {\"tickfont\": {\"color\": \"#666666\"}, \"gridcolor\": \"#FFFFFF\", \"titlefont\": {\"color\": \"#666666\"}, \"zerolinecolor\": \"#F6F6F6\", \"showgrid\": true, \"title\": \"Year\"}, \"titlefont\": {\"color\": \"#7f7f7f\", \"family\": \"Verdana\", \"size\": 15}, \"title\": \"Winter Severity Index and Alcoholism Admissions by Race\", \"yaxis2\": {\"tickfont\": {\"color\": \"#666666\"}, \"gridcolor\": \"#FFFFFF\", \"titlefont\": {\"color\": \"#666666\"}, \"zerolinecolor\": \"#F6F6F6\", \"showgrid\": true, \"title\": \"\", \"overlaying\": \"y1\", \"side\": \"right\", \"anchor\": \"x1\"}, \"barmode\": \"stack\"}, {\"showLink\": true, \"linkText\": \"Export to plot.ly\"})});</script>"
      ]
     },
     "metadata": {},
     "output_type": "display_data"
    }
   ],
   "source": [
    "fig1 = df.iplot(columns=['white', 'black'], colors=['#08519c', '#3182bd'], kind='bar', gridcolor='#FFFFFF', asFigure=True)\n",
    "fig2 = df.iplot(columns=['TempScore', 'SnowScore', 'AWSSI'], colors=['#85929e', '#ccd1d1', '#34495e'], width=[3, 3, 4], title='Winter Severity Index and Alcoholism Admissions by Race',  xTitle='Year', yTitle='Admissions', secondary_y=['TempScore', 'SnowScore', 'AWSSI'], gridcolor='#FFFFFF', asFigure=True)\n",
    "fig2['data'].extend(fig1['data'])\n",
    "fig2['layout'].update(barmode='stack', titlefont=dict(\n",
    "            family='Verdana',\n",
    "            size=15,\n",
    "            color='#7f7f7f'\n",
    "            ),\n",
    "            paper_bgcolor='#FFFFFF', plot_bgcolor='#FFFFFF')\n",
    "pyo.iplot(fig2)"
   ]
  },
  {
   "cell_type": "code",
   "execution_count": 14,
   "metadata": {},
   "outputs": [
    {
     "data": {
      "application/vnd.plotly.v1+json": {
       "data": [
        {
         "line": {
          "color": "rgba(133, 146, 158, 1.0)",
          "dash": "solid",
          "width": 3
         },
         "mode": "lines",
         "name": "TempScore",
         "text": "",
         "type": "scatter",
         "x": [
          "1992",
          "1993",
          "1994",
          "1995",
          "1996",
          "1997",
          "1998",
          "1999",
          "2000",
          "2001",
          "2002",
          "2003",
          "2004",
          "2005",
          "2006",
          "2007",
          "2008",
          "2009",
          "2010",
          "2011",
          "2012",
          "2013",
          "2014"
         ],
         "xaxis": "x1",
         "y": [
          335,
          364,
          426,
          279,
          400,
          282,
          202,
          245,
          300,
          373,
          181,
          482,
          414,
          350,
          286,
          311,
          290,
          369,
          247,
          326,
          176,
          235,
          437
         ],
         "yaxis": "y2"
        },
        {
         "line": {
          "color": "rgba(204, 209, 209, 1.0)",
          "dash": "solid",
          "width": 3
         },
         "mode": "lines",
         "name": "SnowScore",
         "text": "",
         "type": "scatter",
         "x": [
          "1992",
          "1993",
          "1994",
          "1995",
          "1996",
          "1997",
          "1998",
          "1999",
          "2000",
          "2001",
          "2002",
          "2003",
          "2004",
          "2005",
          "2006",
          "2007",
          "2008",
          "2009",
          "2010",
          "2011",
          "2012",
          "2013",
          "2014"
         ],
         "xaxis": "x1",
         "y": [
          105,
          424,
          626,
          90,
          690,
          219,
          245,
          198,
          231,
          556,
          132,
          714,
          260,
          662,
          224,
          102,
          305,
          436,
          316,
          672,
          84,
          392,
          455
         ],
         "yaxis": "y2"
        },
        {
         "line": {
          "color": "rgba(52, 73, 94, 1.0)",
          "dash": "solid",
          "width": 4
         },
         "mode": "lines",
         "name": "AWSSI",
         "text": "",
         "type": "scatter",
         "x": [
          "1992",
          "1993",
          "1994",
          "1995",
          "1996",
          "1997",
          "1998",
          "1999",
          "2000",
          "2001",
          "2002",
          "2003",
          "2004",
          "2005",
          "2006",
          "2007",
          "2008",
          "2009",
          "2010",
          "2011",
          "2012",
          "2013",
          "2014"
         ],
         "xaxis": "x1",
         "y": [
          440,
          788,
          1052,
          369,
          1090,
          501,
          447,
          443,
          531,
          929,
          313,
          1196,
          674,
          1012,
          510,
          413,
          595,
          805,
          563,
          998,
          260,
          627,
          892
         ],
         "yaxis": "y2"
        },
        {
         "marker": {
          "color": "rgba(8, 81, 156, 0.6)",
          "line": {
           "color": "rgba(8, 81, 156, 1.0)",
           "width": 1
          }
         },
         "name": "not_in_wrkfrc",
         "orientation": "v",
         "text": "",
         "type": "bar",
         "x": [
          "1992",
          "1993",
          "1994",
          "1995",
          "1996",
          "1997",
          "1998",
          "1999",
          "2000",
          "2001",
          "2002",
          "2003",
          "2004",
          "2005",
          "2006",
          "2007",
          "2008",
          "2009",
          "2010",
          "2011",
          "2012",
          "2013",
          "2014"
         ],
         "y": [
          17668,
          19690,
          20270,
          21825,
          22508,
          22109,
          21201,
          20165,
          18613,
          17441,
          16130,
          12218,
          13416,
          13556,
          22026,
          20984,
          14841,
          13837,
          13584,
          13232,
          12931,
          12670,
          12052
         ]
        },
        {
         "marker": {
          "color": "rgba(49, 130, 189, 0.6)",
          "line": {
           "color": "rgba(49, 130, 189, 1.0)",
           "width": 1
          }
         },
         "name": "unemployed",
         "orientation": "v",
         "text": "",
         "type": "bar",
         "x": [
          "1992",
          "1993",
          "1994",
          "1995",
          "1996",
          "1997",
          "1998",
          "1999",
          "2000",
          "2001",
          "2002",
          "2003",
          "2004",
          "2005",
          "2006",
          "2007",
          "2008",
          "2009",
          "2010",
          "2011",
          "2012",
          "2013",
          "2014"
         ],
         "y": [
          4152,
          3602,
          2872,
          2673,
          2722,
          2590,
          2249,
          1874,
          1757,
          1466,
          1194,
          1076,
          1244,
          1272,
          2258,
          2539,
          6104,
          8007,
          7383,
          6880,
          6824,
          5734,
          5578
         ]
        },
        {
         "marker": {
          "color": "rgba(107, 174, 214, 0.6)",
          "line": {
           "color": "rgba(107, 174, 214, 1.0)",
           "width": 1
          }
         },
         "name": "part_time",
         "orientation": "v",
         "text": "",
         "type": "bar",
         "x": [
          "1992",
          "1993",
          "1994",
          "1995",
          "1996",
          "1997",
          "1998",
          "1999",
          "2000",
          "2001",
          "2002",
          "2003",
          "2004",
          "2005",
          "2006",
          "2007",
          "2008",
          "2009",
          "2010",
          "2011",
          "2012",
          "2013",
          "2014"
         ],
         "y": [
          2075,
          2270,
          2214,
          2253,
          2361,
          2441,
          2318,
          2147,
          1872,
          1575,
          1061,
          1086,
          1291,
          1342,
          2524,
          2585,
          2245,
          2274,
          2155,
          1935,
          2212,
          2257,
          2000
         ]
        },
        {
         "marker": {
          "color": "rgba(158, 202, 225, 0.6)",
          "line": {
           "color": "rgba(158, 202, 225, 1.0)",
           "width": 1
          }
         },
         "name": "full_time",
         "orientation": "v",
         "text": "",
         "type": "bar",
         "x": [
          "1992",
          "1993",
          "1994",
          "1995",
          "1996",
          "1997",
          "1998",
          "1999",
          "2000",
          "2001",
          "2002",
          "2003",
          "2004",
          "2005",
          "2006",
          "2007",
          "2008",
          "2009",
          "2010",
          "2011",
          "2012",
          "2013",
          "2014"
         ],
         "y": [
          5630,
          5978,
          6853,
          6659,
          6968,
          7942,
          7197,
          6700,
          6706,
          6245,
          4284,
          3835,
          4469,
          4564,
          10539,
          10423,
          8596,
          7103,
          6786,
          6812,
          7337,
          7526,
          7462
         ]
        }
       ],
       "layout": {
        "barmode": "stack",
        "legend": {
         "bgcolor": "#FFFFFF",
         "font": {
          "color": "#666666"
         }
        },
        "paper_bgcolor": "#FFFFFF",
        "plot_bgcolor": "#FFFFFF",
        "title": "Winter Severity Index and Alcoholism Admissions by Employment Status",
        "titlefont": {
         "color": "#7f7f7f",
         "family": "Verdana",
         "size": 15
        },
        "xaxis1": {
         "gridcolor": "#FFFFFF",
         "showgrid": true,
         "tickfont": {
          "color": "#666666"
         },
         "title": "Year",
         "titlefont": {
          "color": "#666666"
         },
         "zerolinecolor": "#F6F6F6"
        },
        "yaxis2": {
         "anchor": "x1",
         "gridcolor": "#FFFFFF",
         "overlaying": "y1",
         "showgrid": true,
         "side": "right",
         "tickfont": {
          "color": "#666666"
         },
         "title": "",
         "titlefont": {
          "color": "#666666"
         },
         "zerolinecolor": "#F6F6F6"
        }
       }
      },
      "text/html": [
       "<div id=\"3e441b93-9a5a-4d52-8fe1-765879d775f3\" style=\"height: 525px; width: 100%;\" class=\"plotly-graph-div\"></div><script type=\"text/javascript\">require([\"plotly\"], function(Plotly) { window.PLOTLYENV=window.PLOTLYENV || {};window.PLOTLYENV.BASE_URL=\"https://plot.ly\";Plotly.newPlot(\"3e441b93-9a5a-4d52-8fe1-765879d775f3\", [{\"type\": \"scatter\", \"x\": [\"1992\", \"1993\", \"1994\", \"1995\", \"1996\", \"1997\", \"1998\", \"1999\", \"2000\", \"2001\", \"2002\", \"2003\", \"2004\", \"2005\", \"2006\", \"2007\", \"2008\", \"2009\", \"2010\", \"2011\", \"2012\", \"2013\", \"2014\"], \"y\": [335, 364, 426, 279, 400, 282, 202, 245, 300, 373, 181, 482, 414, 350, 286, 311, 290, 369, 247, 326, 176, 235, 437], \"name\": \"TempScore\", \"text\": \"\", \"line\": {\"color\": \"rgba(133, 146, 158, 1.0)\", \"width\": 3, \"dash\": \"solid\"}, \"mode\": \"lines\", \"xaxis\": \"x1\", \"yaxis\": \"y2\"}, {\"type\": \"scatter\", \"x\": [\"1992\", \"1993\", \"1994\", \"1995\", \"1996\", \"1997\", \"1998\", \"1999\", \"2000\", \"2001\", \"2002\", \"2003\", \"2004\", \"2005\", \"2006\", \"2007\", \"2008\", \"2009\", \"2010\", \"2011\", \"2012\", \"2013\", \"2014\"], \"y\": [105, 424, 626, 90, 690, 219, 245, 198, 231, 556, 132, 714, 260, 662, 224, 102, 305, 436, 316, 672, 84, 392, 455], \"name\": \"SnowScore\", \"text\": \"\", \"line\": {\"color\": \"rgba(204, 209, 209, 1.0)\", \"width\": 3, \"dash\": \"solid\"}, \"mode\": \"lines\", \"xaxis\": \"x1\", \"yaxis\": \"y2\"}, {\"type\": \"scatter\", \"x\": [\"1992\", \"1993\", \"1994\", \"1995\", \"1996\", \"1997\", \"1998\", \"1999\", \"2000\", \"2001\", \"2002\", \"2003\", \"2004\", \"2005\", \"2006\", \"2007\", \"2008\", \"2009\", \"2010\", \"2011\", \"2012\", \"2013\", \"2014\"], \"y\": [440, 788, 1052, 369, 1090, 501, 447, 443, 531, 929, 313, 1196, 674, 1012, 510, 413, 595, 805, 563, 998, 260, 627, 892], \"name\": \"AWSSI\", \"text\": \"\", \"line\": {\"color\": \"rgba(52, 73, 94, 1.0)\", \"width\": 4, \"dash\": \"solid\"}, \"mode\": \"lines\", \"xaxis\": \"x1\", \"yaxis\": \"y2\"}, {\"type\": \"bar\", \"x\": [\"1992\", \"1993\", \"1994\", \"1995\", \"1996\", \"1997\", \"1998\", \"1999\", \"2000\", \"2001\", \"2002\", \"2003\", \"2004\", \"2005\", \"2006\", \"2007\", \"2008\", \"2009\", \"2010\", \"2011\", \"2012\", \"2013\", \"2014\"], \"y\": [17668, 19690, 20270, 21825, 22508, 22109, 21201, 20165, 18613, 17441, 16130, 12218, 13416, 13556, 22026, 20984, 14841, 13837, 13584, 13232, 12931, 12670, 12052], \"name\": \"not_in_wrkfrc\", \"text\": \"\", \"marker\": {\"color\": \"rgba(8, 81, 156, 0.6)\", \"line\": {\"color\": \"rgba(8, 81, 156, 1.0)\", \"width\": 1}}, \"orientation\": \"v\"}, {\"type\": \"bar\", \"x\": [\"1992\", \"1993\", \"1994\", \"1995\", \"1996\", \"1997\", \"1998\", \"1999\", \"2000\", \"2001\", \"2002\", \"2003\", \"2004\", \"2005\", \"2006\", \"2007\", \"2008\", \"2009\", \"2010\", \"2011\", \"2012\", \"2013\", \"2014\"], \"y\": [4152, 3602, 2872, 2673, 2722, 2590, 2249, 1874, 1757, 1466, 1194, 1076, 1244, 1272, 2258, 2539, 6104, 8007, 7383, 6880, 6824, 5734, 5578], \"name\": \"unemployed\", \"text\": \"\", \"marker\": {\"color\": \"rgba(49, 130, 189, 0.6)\", \"line\": {\"color\": \"rgba(49, 130, 189, 1.0)\", \"width\": 1}}, \"orientation\": \"v\"}, {\"type\": \"bar\", \"x\": [\"1992\", \"1993\", \"1994\", \"1995\", \"1996\", \"1997\", \"1998\", \"1999\", \"2000\", \"2001\", \"2002\", \"2003\", \"2004\", \"2005\", \"2006\", \"2007\", \"2008\", \"2009\", \"2010\", \"2011\", \"2012\", \"2013\", \"2014\"], \"y\": [2075, 2270, 2214, 2253, 2361, 2441, 2318, 2147, 1872, 1575, 1061, 1086, 1291, 1342, 2524, 2585, 2245, 2274, 2155, 1935, 2212, 2257, 2000], \"name\": \"part_time\", \"text\": \"\", \"marker\": {\"color\": \"rgba(107, 174, 214, 0.6)\", \"line\": {\"color\": \"rgba(107, 174, 214, 1.0)\", \"width\": 1}}, \"orientation\": \"v\"}, {\"type\": \"bar\", \"x\": [\"1992\", \"1993\", \"1994\", \"1995\", \"1996\", \"1997\", \"1998\", \"1999\", \"2000\", \"2001\", \"2002\", \"2003\", \"2004\", \"2005\", \"2006\", \"2007\", \"2008\", \"2009\", \"2010\", \"2011\", \"2012\", \"2013\", \"2014\"], \"y\": [5630, 5978, 6853, 6659, 6968, 7942, 7197, 6700, 6706, 6245, 4284, 3835, 4469, 4564, 10539, 10423, 8596, 7103, 6786, 6812, 7337, 7526, 7462], \"name\": \"full_time\", \"text\": \"\", \"marker\": {\"color\": \"rgba(158, 202, 225, 0.6)\", \"line\": {\"color\": \"rgba(158, 202, 225, 1.0)\", \"width\": 1}}, \"orientation\": \"v\"}], {\"legend\": {\"bgcolor\": \"#FFFFFF\", \"font\": {\"color\": \"#666666\"}}, \"paper_bgcolor\": \"#FFFFFF\", \"plot_bgcolor\": \"#FFFFFF\", \"xaxis1\": {\"tickfont\": {\"color\": \"#666666\"}, \"gridcolor\": \"#FFFFFF\", \"titlefont\": {\"color\": \"#666666\"}, \"zerolinecolor\": \"#F6F6F6\", \"showgrid\": true, \"title\": \"Year\"}, \"titlefont\": {\"color\": \"#7f7f7f\", \"family\": \"Verdana\", \"size\": 15}, \"title\": \"Winter Severity Index and Alcoholism Admissions by Employment Status\", \"yaxis2\": {\"tickfont\": {\"color\": \"#666666\"}, \"gridcolor\": \"#FFFFFF\", \"titlefont\": {\"color\": \"#666666\"}, \"zerolinecolor\": \"#F6F6F6\", \"showgrid\": true, \"title\": \"\", \"overlaying\": \"y1\", \"side\": \"right\", \"anchor\": \"x1\"}, \"barmode\": \"stack\"}, {\"showLink\": true, \"linkText\": \"Export to plot.ly\"})});</script>"
      ],
      "text/vnd.plotly.v1+html": [
       "<div id=\"3e441b93-9a5a-4d52-8fe1-765879d775f3\" style=\"height: 525px; width: 100%;\" class=\"plotly-graph-div\"></div><script type=\"text/javascript\">require([\"plotly\"], function(Plotly) { window.PLOTLYENV=window.PLOTLYENV || {};window.PLOTLYENV.BASE_URL=\"https://plot.ly\";Plotly.newPlot(\"3e441b93-9a5a-4d52-8fe1-765879d775f3\", [{\"type\": \"scatter\", \"x\": [\"1992\", \"1993\", \"1994\", \"1995\", \"1996\", \"1997\", \"1998\", \"1999\", \"2000\", \"2001\", \"2002\", \"2003\", \"2004\", \"2005\", \"2006\", \"2007\", \"2008\", \"2009\", \"2010\", \"2011\", \"2012\", \"2013\", \"2014\"], \"y\": [335, 364, 426, 279, 400, 282, 202, 245, 300, 373, 181, 482, 414, 350, 286, 311, 290, 369, 247, 326, 176, 235, 437], \"name\": \"TempScore\", \"text\": \"\", \"line\": {\"color\": \"rgba(133, 146, 158, 1.0)\", \"width\": 3, \"dash\": \"solid\"}, \"mode\": \"lines\", \"xaxis\": \"x1\", \"yaxis\": \"y2\"}, {\"type\": \"scatter\", \"x\": [\"1992\", \"1993\", \"1994\", \"1995\", \"1996\", \"1997\", \"1998\", \"1999\", \"2000\", \"2001\", \"2002\", \"2003\", \"2004\", \"2005\", \"2006\", \"2007\", \"2008\", \"2009\", \"2010\", \"2011\", \"2012\", \"2013\", \"2014\"], \"y\": [105, 424, 626, 90, 690, 219, 245, 198, 231, 556, 132, 714, 260, 662, 224, 102, 305, 436, 316, 672, 84, 392, 455], \"name\": \"SnowScore\", \"text\": \"\", \"line\": {\"color\": \"rgba(204, 209, 209, 1.0)\", \"width\": 3, \"dash\": \"solid\"}, \"mode\": \"lines\", \"xaxis\": \"x1\", \"yaxis\": \"y2\"}, {\"type\": \"scatter\", \"x\": [\"1992\", \"1993\", \"1994\", \"1995\", \"1996\", \"1997\", \"1998\", \"1999\", \"2000\", \"2001\", \"2002\", \"2003\", \"2004\", \"2005\", \"2006\", \"2007\", \"2008\", \"2009\", \"2010\", \"2011\", \"2012\", \"2013\", \"2014\"], \"y\": [440, 788, 1052, 369, 1090, 501, 447, 443, 531, 929, 313, 1196, 674, 1012, 510, 413, 595, 805, 563, 998, 260, 627, 892], \"name\": \"AWSSI\", \"text\": \"\", \"line\": {\"color\": \"rgba(52, 73, 94, 1.0)\", \"width\": 4, \"dash\": \"solid\"}, \"mode\": \"lines\", \"xaxis\": \"x1\", \"yaxis\": \"y2\"}, {\"type\": \"bar\", \"x\": [\"1992\", \"1993\", \"1994\", \"1995\", \"1996\", \"1997\", \"1998\", \"1999\", \"2000\", \"2001\", \"2002\", \"2003\", \"2004\", \"2005\", \"2006\", \"2007\", \"2008\", \"2009\", \"2010\", \"2011\", \"2012\", \"2013\", \"2014\"], \"y\": [17668, 19690, 20270, 21825, 22508, 22109, 21201, 20165, 18613, 17441, 16130, 12218, 13416, 13556, 22026, 20984, 14841, 13837, 13584, 13232, 12931, 12670, 12052], \"name\": \"not_in_wrkfrc\", \"text\": \"\", \"marker\": {\"color\": \"rgba(8, 81, 156, 0.6)\", \"line\": {\"color\": \"rgba(8, 81, 156, 1.0)\", \"width\": 1}}, \"orientation\": \"v\"}, {\"type\": \"bar\", \"x\": [\"1992\", \"1993\", \"1994\", \"1995\", \"1996\", \"1997\", \"1998\", \"1999\", \"2000\", \"2001\", \"2002\", \"2003\", \"2004\", \"2005\", \"2006\", \"2007\", \"2008\", \"2009\", \"2010\", \"2011\", \"2012\", \"2013\", \"2014\"], \"y\": [4152, 3602, 2872, 2673, 2722, 2590, 2249, 1874, 1757, 1466, 1194, 1076, 1244, 1272, 2258, 2539, 6104, 8007, 7383, 6880, 6824, 5734, 5578], \"name\": \"unemployed\", \"text\": \"\", \"marker\": {\"color\": \"rgba(49, 130, 189, 0.6)\", \"line\": {\"color\": \"rgba(49, 130, 189, 1.0)\", \"width\": 1}}, \"orientation\": \"v\"}, {\"type\": \"bar\", \"x\": [\"1992\", \"1993\", \"1994\", \"1995\", \"1996\", \"1997\", \"1998\", \"1999\", \"2000\", \"2001\", \"2002\", \"2003\", \"2004\", \"2005\", \"2006\", \"2007\", \"2008\", \"2009\", \"2010\", \"2011\", \"2012\", \"2013\", \"2014\"], \"y\": [2075, 2270, 2214, 2253, 2361, 2441, 2318, 2147, 1872, 1575, 1061, 1086, 1291, 1342, 2524, 2585, 2245, 2274, 2155, 1935, 2212, 2257, 2000], \"name\": \"part_time\", \"text\": \"\", \"marker\": {\"color\": \"rgba(107, 174, 214, 0.6)\", \"line\": {\"color\": \"rgba(107, 174, 214, 1.0)\", \"width\": 1}}, \"orientation\": \"v\"}, {\"type\": \"bar\", \"x\": [\"1992\", \"1993\", \"1994\", \"1995\", \"1996\", \"1997\", \"1998\", \"1999\", \"2000\", \"2001\", \"2002\", \"2003\", \"2004\", \"2005\", \"2006\", \"2007\", \"2008\", \"2009\", \"2010\", \"2011\", \"2012\", \"2013\", \"2014\"], \"y\": [5630, 5978, 6853, 6659, 6968, 7942, 7197, 6700, 6706, 6245, 4284, 3835, 4469, 4564, 10539, 10423, 8596, 7103, 6786, 6812, 7337, 7526, 7462], \"name\": \"full_time\", \"text\": \"\", \"marker\": {\"color\": \"rgba(158, 202, 225, 0.6)\", \"line\": {\"color\": \"rgba(158, 202, 225, 1.0)\", \"width\": 1}}, \"orientation\": \"v\"}], {\"legend\": {\"bgcolor\": \"#FFFFFF\", \"font\": {\"color\": \"#666666\"}}, \"paper_bgcolor\": \"#FFFFFF\", \"plot_bgcolor\": \"#FFFFFF\", \"xaxis1\": {\"tickfont\": {\"color\": \"#666666\"}, \"gridcolor\": \"#FFFFFF\", \"titlefont\": {\"color\": \"#666666\"}, \"zerolinecolor\": \"#F6F6F6\", \"showgrid\": true, \"title\": \"Year\"}, \"titlefont\": {\"color\": \"#7f7f7f\", \"family\": \"Verdana\", \"size\": 15}, \"title\": \"Winter Severity Index and Alcoholism Admissions by Employment Status\", \"yaxis2\": {\"tickfont\": {\"color\": \"#666666\"}, \"gridcolor\": \"#FFFFFF\", \"titlefont\": {\"color\": \"#666666\"}, \"zerolinecolor\": \"#F6F6F6\", \"showgrid\": true, \"title\": \"\", \"overlaying\": \"y1\", \"side\": \"right\", \"anchor\": \"x1\"}, \"barmode\": \"stack\"}, {\"showLink\": true, \"linkText\": \"Export to plot.ly\"})});</script>"
      ]
     },
     "metadata": {},
     "output_type": "display_data"
    }
   ],
   "source": [
    "fig1 = df.iplot(columns=['not_in_wrkfrc', 'unemployed', 'part_time', 'full_time'], colors=['#08519c', '#3182bd', '#6baed6', '#9ecae1'], kind='bar', gridcolor='#FFFFFF', asFigure=True)\n",
    "fig2 = df.iplot(columns=['TempScore', 'SnowScore', 'AWSSI'], colors=['#85929e', '#ccd1d1', '#34495e'], width=[3, 3, 4], title='Winter Severity Index and Alcoholism Admissions by Employment Status',  xTitle='Year', yTitle='Admissions', secondary_y=['TempScore', 'SnowScore', 'AWSSI'], gridcolor='#FFFFFF', asFigure=True)\n",
    "fig2['data'].extend(fig1['data'])\n",
    "fig2['layout'].update(barmode='stack', titlefont=dict(\n",
    "            family='Verdana',\n",
    "            size=15,\n",
    "            color='#7f7f7f'\n",
    "            ),\n",
    "            paper_bgcolor='#FFFFFF', plot_bgcolor='#FFFFFF')\n",
    "pyo.iplot(fig2)"
   ]
  },
  {
   "cell_type": "markdown",
   "metadata": {},
   "source": [
    "A heatmap of the correlations between features and target showed more evidence supporting the null hypothesis (winter severity is not positively related to winter severity). The heatmap showed:\n",
    "\n",
    "1.\tOverall there are systematic negative correlations between the winter severity index (and its components) and the number of people admitted for alcoholism treatment.\n",
    "2.\tThere are only two positive correlations, and they are so small as to be meaningless (.04 was the largest). \n",
    "3.\tAdditionally, in terms of correlation size and direction, subgroups with the smallest counts were outliers from the other correlations.\n"
   ]
  },
  {
   "cell_type": "code",
   "execution_count": 16,
   "metadata": {},
   "outputs": [
    {
     "data": {
      "image/png": "[encoded data removed]",
      "text/plain": [
       "<matplotlib.figure.Figure at 0x20882e97780>"
      ]
     },
     "metadata": {},
     "output_type": "display_data"
    }
   ],
   "source": [
    "# Make a heatmap of all target subgroups and features\n",
    "import matplotlib.pyplot as plt\n",
    "import seaborn as sns\n",
    "df = pd.read_csv(\"C:/Users/rmbrm/Documents/DS ED/2018/Spring/7.2 Assignment data storytelling/cr.csv\", header=(0))\n",
    "dfb = df.set_index(['demo_var'])\n",
    "sns.set(style=\"white\")\n",
    "f, ax = plt.subplots(figsize=(17, 14))\n",
    "# sns.heatmap(dfb, annot=True, cmap='PuOr')\n",
    "cmap = sns.diverging_palette(220, 10, as_cmap=True)\n",
    "sns.heatmap(dfb, annot=True, cmap=cmap, vmax=.3, center=0,\n",
    "            square=True, linewidths=.5, cbar_kws={\"shrink\": .5})\n",
    "plt.show()\n",
    "plt.show()"
   ]
  },
  {
   "cell_type": "markdown",
   "metadata": {},
   "source": [
    "Findings 2 and 3, as well as the small counts for some subgroups, lead me to combine smaller subgroups into fewer, larger subgroups, and rerun the correlations. I made the following changes to the target variables. \n",
    "* I deleted the veteran and civilian variables, since it had missing data, and most admissions were not veterans.\n",
    "* For education, five subgroups were reduced to three: those without high school degrees, those with high school degrees, and those with any amount of college education.\n",
    "* For employment status, four groups were combined into two: those working (part-time or full-time), and those not working (unemployed or not in the workforce).\n",
    "* Four marital status groups were combined into two: those who were never married, and those who were currently or formerly married.\n"
   ]
  },
  {
   "cell_type": "code",
   "execution_count": 18,
   "metadata": {},
   "outputs": [
    {
     "data": {
      "image/png": "[encoded data removed]",
      "text/plain": [
       "<matplotlib.figure.Figure at 0x208835e69e8>"
      ]
     },
     "metadata": {},
     "output_type": "display_data"
    }
   ],
   "source": [
    "# Create heatmap of big var correlation matrix\n",
    "\n",
    "dfd = pd.read_csv(\"C:/Users/rmbrm/Documents/DS ED/2018/Spring/7.2 Assignment data storytelling/big_cr.csv\", header=(0))\n",
    "dfe = dfd.set_index(['demo_var'])\n",
    "sns.set(style=\"white\")\n",
    "f, ax = plt.subplots(figsize=(17, 14))\n",
    "# sns.heatmap(dfb, annot=True, cmap='PuOr')\n",
    "cmap = sns.diverging_palette(220, 10, as_cmap=True)\n",
    "sns.heatmap(dfe, annot=True, cmap=cmap, vmax=.3, center=0,\n",
    "            square=True, linewidths=.5, cbar_kws={\"shrink\": .5})\n",
    "plt.show()\n",
    "plt.show()"
   ]
  },
  {
   "cell_type": "markdown",
   "metadata": {},
   "source": [
    "The size of the negative correlations between the features and the target variables increased when the demographic subgroups were consolidated. The average increases of the negative correlations are listed below:\n",
    "\n",
    "AWSSI\t:\t0.05\n",
    "Temp Score:\t0.04\n",
    "Snow Score:\t0.05\n"
   ]
  },
  {
   "cell_type": "markdown",
   "metadata": {},
   "source": [
    "The data that suggested a revised, opposite hypothesis was piling up. Based on exploratory data analysis, the hypothesis should be revised: *MILDER* winter weather may be predictive of demand for treatment of alcoholism."
   ]
  }
 ],
 "metadata": {
  "kernelspec": {
   "display_name": "Python 3",
   "language": "python",
   "name": "python3"
  },
  "language_info": {
   "codemirror_mode": {
    "name": "ipython",
    "version": 3
   },
   "file_extension": ".py",
   "mimetype": "text/x-python",
   "name": "python",
   "nbconvert_exporter": "python",
   "pygments_lexer": "ipython3",
   "version": "3.6.3"
  }
 },
 "nbformat": 4,
 "nbformat_minor": 2
}
