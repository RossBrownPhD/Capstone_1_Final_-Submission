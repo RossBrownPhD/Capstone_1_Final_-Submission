{
 "cells": [
  {
   "cell_type": "code",
   "execution_count": 1,
   "metadata": {
    "collapsed": true
   },
   "outputs": [],
   "source": [
    "# Use linear regression to see if AWSSI as a single feature can be used to predict alcoholism admissions "
   ]
  },
  {
   "cell_type": "markdown",
   "metadata": {
    "collapsed": true
   },
   "source": [
    "#### Section 1. Linear regression using only the primary feature, AWSSI: Can it be used to predict alcoholism admissions?"
   ]
  },
  {
   "cell_type": "code",
   "execution_count": 2,
   "metadata": {
    "collapsed": true
   },
   "outputs": [],
   "source": [
    "import numpy as np\n",
    "import matplotlib.pyplot as plt\n",
    "import pandas as pd\n",
    "import mglearn\n",
    "from IPython.display import display\n",
    "%matplotlib inline\n"
   ]
  },
  {
   "cell_type": "code",
   "execution_count": 3,
   "metadata": {
    "scrolled": true
   },
   "outputs": [
    {
     "data": {
      "text/html": [
       "<div>\n",
       "<style scoped>\n",
       "    .dataframe tbody tr th:only-of-type {\n",
       "        vertical-align: middle;\n",
       "    }\n",
       "\n",
       "    .dataframe tbody tr th {\n",
       "        vertical-align: top;\n",
       "    }\n",
       "\n",
       "    .dataframe thead th {\n",
       "        text-align: right;\n",
       "    }\n",
       "</style>\n",
       "<table border=\"1\" class=\"dataframe\">\n",
       "  <thead>\n",
       "    <tr style=\"text-align: right;\">\n",
       "      <th></th>\n",
       "      <th>AWSSI</th>\n",
       "      <th>TempScore</th>\n",
       "      <th>SnowScore</th>\n",
       "      <th>Length</th>\n",
       "      <th>start_scale</th>\n",
       "      <th>end_scale</th>\n",
       "      <th>Total_Admits</th>\n",
       "      <th>male</th>\n",
       "      <th>female</th>\n",
       "      <th>white</th>\n",
       "      <th>black</th>\n",
       "      <th>No_HS_degree</th>\n",
       "      <th>HS_grad</th>\n",
       "      <th>college</th>\n",
       "      <th>nvr_mrrd</th>\n",
       "      <th>some_marriage</th>\n",
       "      <th>working</th>\n",
       "      <th>no_work</th>\n",
       "    </tr>\n",
       "  </thead>\n",
       "  <tbody>\n",
       "    <tr>\n",
       "      <th>0</th>\n",
       "      <td>440</td>\n",
       "      <td>335</td>\n",
       "      <td>105</td>\n",
       "      <td>159</td>\n",
       "      <td>40</td>\n",
       "      <td>118</td>\n",
       "      <td>29526</td>\n",
       "      <td>22460</td>\n",
       "      <td>7066</td>\n",
       "      <td>23985</td>\n",
       "      <td>3636</td>\n",
       "      <td>9956.0</td>\n",
       "      <td>13671</td>\n",
       "      <td>5896</td>\n",
       "      <td>15265</td>\n",
       "      <td>14257</td>\n",
       "      <td>7705</td>\n",
       "      <td>21820</td>\n",
       "    </tr>\n",
       "    <tr>\n",
       "      <th>1</th>\n",
       "      <td>788</td>\n",
       "      <td>364</td>\n",
       "      <td>424</td>\n",
       "      <td>164</td>\n",
       "      <td>36</td>\n",
       "      <td>127</td>\n",
       "      <td>31541</td>\n",
       "      <td>24161</td>\n",
       "      <td>7380</td>\n",
       "      <td>25577</td>\n",
       "      <td>3707</td>\n",
       "      <td>10435.0</td>\n",
       "      <td>14632</td>\n",
       "      <td>6470</td>\n",
       "      <td>16301</td>\n",
       "      <td>15235</td>\n",
       "      <td>8248</td>\n",
       "      <td>23292</td>\n",
       "    </tr>\n",
       "    <tr>\n",
       "      <th>2</th>\n",
       "      <td>1052</td>\n",
       "      <td>426</td>\n",
       "      <td>626</td>\n",
       "      <td>127</td>\n",
       "      <td>27</td>\n",
       "      <td>99</td>\n",
       "      <td>32210</td>\n",
       "      <td>24770</td>\n",
       "      <td>7440</td>\n",
       "      <td>25966</td>\n",
       "      <td>3736</td>\n",
       "      <td>10387.0</td>\n",
       "      <td>15203</td>\n",
       "      <td>6611</td>\n",
       "      <td>16775</td>\n",
       "      <td>15430</td>\n",
       "      <td>9067</td>\n",
       "      <td>23142</td>\n",
       "    </tr>\n",
       "    <tr>\n",
       "      <th>3</th>\n",
       "      <td>369</td>\n",
       "      <td>279</td>\n",
       "      <td>90</td>\n",
       "      <td>134</td>\n",
       "      <td>28</td>\n",
       "      <td>105</td>\n",
       "      <td>33411</td>\n",
       "      <td>25574</td>\n",
       "      <td>7837</td>\n",
       "      <td>25781</td>\n",
       "      <td>4526</td>\n",
       "      <td>10707.0</td>\n",
       "      <td>15791</td>\n",
       "      <td>6908</td>\n",
       "      <td>17966</td>\n",
       "      <td>15443</td>\n",
       "      <td>8912</td>\n",
       "      <td>24498</td>\n",
       "    </tr>\n",
       "    <tr>\n",
       "      <th>4</th>\n",
       "      <td>1090</td>\n",
       "      <td>400</td>\n",
       "      <td>690</td>\n",
       "      <td>153</td>\n",
       "      <td>38</td>\n",
       "      <td>114</td>\n",
       "      <td>34559</td>\n",
       "      <td>26205</td>\n",
       "      <td>8354</td>\n",
       "      <td>26976</td>\n",
       "      <td>4552</td>\n",
       "      <td>10948.0</td>\n",
       "      <td>16256</td>\n",
       "      <td>7354</td>\n",
       "      <td>19072</td>\n",
       "      <td>15485</td>\n",
       "      <td>9329</td>\n",
       "      <td>25230</td>\n",
       "    </tr>\n",
       "  </tbody>\n",
       "</table>\n",
       "</div>"
      ],
      "text/plain": [
       "   AWSSI  TempScore  SnowScore  Length  start_scale  end_scale  Total_Admits  \\\n",
       "0    440        335        105     159           40        118         29526   \n",
       "1    788        364        424     164           36        127         31541   \n",
       "2   1052        426        626     127           27         99         32210   \n",
       "3    369        279         90     134           28        105         33411   \n",
       "4   1090        400        690     153           38        114         34559   \n",
       "\n",
       "    male  female  white  black  No_HS_degree  HS_grad  college  nvr_mrrd  \\\n",
       "0  22460    7066  23985   3636        9956.0    13671     5896     15265   \n",
       "1  24161    7380  25577   3707       10435.0    14632     6470     16301   \n",
       "2  24770    7440  25966   3736       10387.0    15203     6611     16775   \n",
       "3  25574    7837  25781   4526       10707.0    15791     6908     17966   \n",
       "4  26205    8354  26976   4552       10948.0    16256     7354     19072   \n",
       "\n",
       "   some_marriage  working  no_work  \n",
       "0          14257     7705    21820  \n",
       "1          15235     8248    23292  \n",
       "2          15430     9067    23142  \n",
       "3          15443     8912    24498  \n",
       "4          15485     9329    25230  "
      ]
     },
     "execution_count": 3,
     "metadata": {},
     "output_type": "execute_result"
    }
   ],
   "source": [
    "df = pd.read_pickle(\"C:/Users/rmbrm/Documents/DS ED/2018/Spring/Cap1/Git/consol_correl_vars\", compression='infer')\n",
    "df.head()"
   ]
  },
  {
   "cell_type": "code",
   "execution_count": 4,
   "metadata": {},
   "outputs": [
    {
     "data": {
      "text/plain": [
       "AWSSI              int64\n",
       "TempScore          int64\n",
       "SnowScore          int64\n",
       "Length             int64\n",
       "start_scale        int32\n",
       "end_scale          int32\n",
       "Total_Admits       int64\n",
       "male               int64\n",
       "female             int64\n",
       "white              int64\n",
       "black              int64\n",
       "No_HS_degree     float64\n",
       "HS_grad            int64\n",
       "college            int64\n",
       "nvr_mrrd           int64\n",
       "some_marriage      int64\n",
       "working            int64\n",
       "no_work            int64\n",
       "dtype: object"
      ]
     },
     "execution_count": 4,
     "metadata": {},
     "output_type": "execute_result"
    }
   ],
   "source": [
    "df.dtypes"
   ]
  },
  {
   "cell_type": "code",
   "execution_count": 5,
   "metadata": {
    "scrolled": false
   },
   "outputs": [
    {
     "data": {
      "text/plain": [
       "(23, 18)"
      ]
     },
     "execution_count": 5,
     "metadata": {},
     "output_type": "execute_result"
    }
   ],
   "source": [
    "df.shape"
   ]
  },
  {
   "cell_type": "code",
   "execution_count": 6,
   "metadata": {
    "collapsed": true
   },
   "outputs": [],
   "source": [
    "X = df.drop(df.columns[4], axis=1).values \n",
    "y = df['Total_Admits'].values"
   ]
  },
  {
   "cell_type": "code",
   "execution_count": 7,
   "metadata": {
    "scrolled": true
   },
   "outputs": [
    {
     "name": "stdout",
     "output_type": "stream",
     "text": [
      "[[   440.    335.    105.    159.    118.  29526.  22460.   7066.  23985.\n",
      "    3636.   9956.  13671.   5896.  15265.  14257.   7705.  21820.]\n",
      " [   788.    364.    424.    164.    127.  31541.  24161.   7380.  25577.\n",
      "    3707.  10435.  14632.   6470.  16301.  15235.   8248.  23292.]\n",
      " [  1052.    426.    626.    127.     99.  32210.  24770.   7440.  25966.\n",
      "    3736.  10387.  15203.   6611.  16775.  15430.   9067.  23142.]\n",
      " [   369.    279.     90.    134.    105.  33411.  25574.   7837.  25781.\n",
      "    4526.  10707.  15791.   6908.  17966.  15443.   8912.  24498.]\n",
      " [  1090.    400.    690.    153.    114.  34559.  26205.   8354.  26976.\n",
      "    4552.  10948.  16256.   7354.  19072.  15485.   9329.  25230.]\n",
      " [   501.    282.    219.    146.    109.  35083.  26633.   8450.  28223.\n",
      "    4075.  10720.  16930.   7425.  19183.  15896.  10383.  24699.]\n",
      " [   447.    202.    245.    148.    110.  32965.  25099.   7866.  26130.\n",
      "    4159.   9701.  16027.   7231.  18414.  14550.   9515.  23450.]\n",
      " [   443.    245.    198.    108.     87.  30886.  23280.   7606.  24392.\n",
      "    4109.   8907.  15195.   6772.  17497.  13385.   8847.  22039.]\n",
      " [   531.    300.    231.    149.    128.  28948.  21904.   7044.  22482.\n",
      "    4028.   8314.  14036.   6594.  16425.  12523.   8578.  20370.]\n",
      " [   929.    373.    556.    172.    119.  26727.  20228.   6499.  20624.\n",
      "    3779.   6996.  13188.   6534.  15027.  11697.   7820.  18907.]\n",
      " [   313.    181.    132.    147.    126.  22670.  17566.   5103.  17285.\n",
      "    3382.   5669.  11469.   5530.  13060.   9610.   5345.  17324.]\n",
      " [  1196.    482.    714.    170.    110.  18216.  13412.   4803.  13934.\n",
      "    2571.   4617.   8970.   4621.  10419.   7797.   4921.  13294.]\n",
      " [   674.    414.    260.    166.    106.  20421.  15187.   5234.  15592.\n",
      "    2910.   5046.  10226.   5145.  11853.   8568.   5760.  14660.]\n",
      " [  1012.    350.    662.    152.    113.  20734.  15469.   5265.  15984.\n",
      "    2579.   4949.  10395.   5389.  12102.   8631.   5906.  14828.]\n",
      " [   510.    286.    224.    159.    106.  37349.  27221.  10128.  29612.\n",
      "    4081.   7974.  18103.  11230.  21909.  15434.  13063.  24284.]\n",
      " [   413.    311.    102.    126.    105.  36572.  26416.  10155.  29190.\n",
      "    3771.   7445.  17822.  11276.  21306.  15110.  13008.  23523.]\n",
      " [   595.    290.    305.    131.     99.  32384.  23351.   9022.  25907.\n",
      "    3061.   6164.  14660.  10903.  18559.  13610.  10841.  20945.]\n",
      " [   805.    369.    436.    143.    111.  32079.  23484.   8578.  25449.\n",
      "    3118.   5991.  13665.  10837.  18118.  13397.   9377.  21844.]\n",
      " [   563.    247.    316.    160.     95.  31201.  22536.   8641.  24641.\n",
      "    3122.   5502.  12693.  10952.  17200.  13190.   8941.  20967.]\n",
      " [   998.    326.    672.    146.    102.  29715.  21410.   8287.  23325.\n",
      "    2870.   5235.  12407.  10649.  16651.  12612.   8747.  20112.]\n",
      " [   260.    176.     84.    133.     77.  30013.  21502.   8501.  23884.\n",
      "    2653.   5036.  12161.  11647.  16830.  12695.   9549.  19755.]\n",
      " [   627.    235.    392.    140.     95.  28841.  20352.   8467.  23057.\n",
      "    2555.   4728.  11390.  11132.  16264.  12212.   9783.  18404.]\n",
      " [   892.    437.    455.    155.    116.  27619.  19490.   8105.  21926.\n",
      "    2485.   4437.  10520.  11057.  15450.  11772.   9462.  17630.]]\n"
     ]
    }
   ],
   "source": [
    "print(X)\n"
   ]
  },
  {
   "cell_type": "code",
   "execution_count": 8,
   "metadata": {
    "collapsed": true
   },
   "outputs": [],
   "source": [
    "# slice out weather scale predictor variable\n",
    "X_AWSSI = X[:,0] "
   ]
  },
  {
   "cell_type": "code",
   "execution_count": 9,
   "metadata": {},
   "outputs": [
    {
     "name": "stdout",
     "output_type": "stream",
     "text": [
      "[  440.   788.  1052.   369.  1090.   501.   447.   443.   531.   929.\n",
      "   313.  1196.   674.  1012.   510.   413.   595.   805.   563.   998.\n",
      "   260.   627.   892.]\n"
     ]
    }
   ],
   "source": [
    "print(X_AWSSI)"
   ]
  },
  {
   "cell_type": "code",
   "execution_count": 10,
   "metadata": {
    "scrolled": true
   },
   "outputs": [
    {
     "data": {
      "text/plain": [
       "(numpy.ndarray, numpy.ndarray)"
      ]
     },
     "execution_count": 10,
     "metadata": {},
     "output_type": "execute_result"
    }
   ],
   "source": [
    "# some quality control\n",
    "\n",
    "type(X_AWSSI), type(y) "
   ]
  },
  {
   "cell_type": "code",
   "execution_count": 11,
   "metadata": {},
   "outputs": [
    {
     "name": "stdout",
     "output_type": "stream",
     "text": [
      "Dimensions of y before reshaping: (23,)\n",
      "Dimensions of X_AWSSI before reshaping: (23,)\n"
     ]
    }
   ],
   "source": [
    "# format arrays for analysis\n",
    "\n",
    "print(\"Dimensions of y before reshaping: {}\".format(y.shape))\n",
    "print(\"Dimensions of X_AWSSI before reshaping: {}\".format(X_AWSSI.shape))"
   ]
  },
  {
   "cell_type": "code",
   "execution_count": 12,
   "metadata": {
    "collapsed": true
   },
   "outputs": [],
   "source": [
    "# continued \n",
    "\n",
    "y = y.reshape(-1, 1) \n",
    "X_AWSSI = X_AWSSI.reshape(-1, 1)"
   ]
  },
  {
   "cell_type": "code",
   "execution_count": 13,
   "metadata": {},
   "outputs": [
    {
     "name": "stdout",
     "output_type": "stream",
     "text": [
      "Dimensions of y after reshaping: (23, 1)\n",
      "Dimensions of X_AWSSI after reshaping: (23, 1)\n"
     ]
    }
   ],
   "source": [
    "# Print the dimensions of X and y after reshaping\n",
    "\n",
    "print(\"Dimensions of y after reshaping: {}\".format(y.shape))\n",
    "print(\"Dimensions of X_AWSSI after reshaping: {}\".format(X_AWSSI.shape))"
   ]
  },
  {
   "cell_type": "code",
   "execution_count": 14,
   "metadata": {
    "scrolled": true
   },
   "outputs": [
    {
     "data": {
      "image/png": "[encoded data removed]",
      "text/plain": [
       "<matplotlib.figure.Figure at 0x1d46fb9b0f0>"
      ]
     },
     "metadata": {},
     "output_type": "display_data"
    }
   ],
   "source": [
    "#  fit a linear regression and predict alcoholisim admissions using one feature, the winter weather index\n",
    "\n",
    "plt.scatter(X_AWSSI, y) \n",
    "plt.ylabel('Number of Admissions') \n",
    "plt.xlabel('AWSSI') \n",
    "plt.show()\n"
   ]
  },
  {
   "cell_type": "code",
   "execution_count": 15,
   "metadata": {
    "scrolled": true
   },
   "outputs": [
    {
     "data": {
      "image/png": "[encoded data removed]",
      "text/plain": [
       "<matplotlib.figure.Figure at 0x1d46fbad470>"
      ]
     },
     "metadata": {},
     "output_type": "display_data"
    }
   ],
   "source": [
    "\"\"\"Fit a regression model. Create a regressor: reg, create the prediction space, fit the model to the data,\n",
    "compute predictions over the prediction space, and plot the regression line.\"\"\"\n",
    "\n",
    "from sklearn import linear_model \n",
    "reg = linear_model.LinearRegression() \n",
    "reg.fit(X_AWSSI, y) \n",
    "\n",
    "prediction_space = np.linspace(min(X_AWSSI),  \n",
    "                          max(X_AWSSI)).reshape(-1, 1) \n",
    "plt.scatter(X_AWSSI, y, color='blue') \n",
    "plt.plot(prediction_space, reg.predict(prediction_space),\n",
    "   color='black', linewidth=3) \n",
    "plt.show()f\n"
   ]
  },
  {
   "cell_type": "markdown",
   "metadata": {
    "collapsed": true
   },
   "source": [
    "Interpretation: the above illustrates that my one-feature data are sparse and not especially predictive. The regression line of predictions does not capture the data trend. The model does not perform well. "
   ]
  },
  {
   "cell_type": "markdown",
   "metadata": {},
   "source": [
    "###### 1a. Evaluate the model by its score, R^2: "
   ]
  },
  {
   "cell_type": "code",
   "execution_count": 16,
   "metadata": {},
   "outputs": [
    {
     "name": "stdout",
     "output_type": "stream",
     "text": [
      "One feature linear regression R^2: 0.12\n"
     ]
    }
   ],
   "source": [
    "print(\"One feature linear regression R^2: {:.2f}\".format(reg.score(X_AWSSI, y)))"
   ]
  },
  {
   "cell_type": "markdown",
   "metadata": {
    "collapsed": true
   },
   "source": [
    "######  R^2 for linear regression with primary feature, AWSSI: 0.12\n",
    "##### 1a interpretation:  R^2 value for linear regression with AWSSI feature, the overall winter severity index, indicates very little variance in the target is predicted by the feature."
   ]
  },
  {
   "cell_type": "markdown",
   "metadata": {},
   "source": [
    "##### 1b. Evaluate the model by how it performs on a test set after being trained:"
   ]
  },
  {
   "cell_type": "code",
   "execution_count": 17,
   "metadata": {
    "collapsed": true
   },
   "outputs": [],
   "source": [
    "from sklearn.linear_model import LinearRegression \n",
    "from sklearn.model_selection import train_test_split"
   ]
  },
  {
   "cell_type": "code",
   "execution_count": 18,
   "metadata": {
    "collapsed": true
   },
   "outputs": [],
   "source": [
    "X = X_AWSSI "
   ]
  },
  {
   "cell_type": "code",
   "execution_count": 19,
   "metadata": {
    "collapsed": true
   },
   "outputs": [],
   "source": [
    "X, y = X, y\n",
    "X_train, X_test, y_train, y_test = train_test_split(X, y, random_state = 0)\n",
    "lr = LinearRegression().fit(X_train, y_train)\n"
   ]
  },
  {
   "cell_type": "code",
   "execution_count": 20,
   "metadata": {
    "scrolled": true
   },
   "outputs": [
    {
     "name": "stdout",
     "output_type": "stream",
     "text": [
      "Training set score: 0.12\n",
      "Test set score: -0.01\n"
     ]
    }
   ],
   "source": [
    "print(\"Training set score: {:.2f}\".format(lr.score(X_train, y_train)))\n",
    "print(\"Test set score: {:.2f}\".format(lr.score(X_test, y_test)))\n"
   ]
  },
  {
   "cell_type": "markdown",
   "metadata": {},
   "source": [
    "###### Training set score: 0.12\n",
    "###### Test set score: -0.01\n",
    "\n",
    "##### 1b Interpretation: Training score (the R^2)  is higher than test set score, and test score is nonexistent, i.e., zero."
   ]
  },
  {
   "cell_type": "markdown",
   "metadata": {},
   "source": [
    "##### 1c. What are the linear regression slope and intercept values?"
   ]
  },
  {
   "cell_type": "code",
   "execution_count": 21,
   "metadata": {},
   "outputs": [
    {
     "name": "stdout",
     "output_type": "stream",
     "text": [
      "lr.coef_: [[-5.94067033]]\n",
      "lr.intercept_: [ 34403.9199438]\n"
     ]
    }
   ],
   "source": [
    "print(\"lr.coef_: {}\".format(lr.coef_))\n",
    "print(\"lr.intercept_: {}\".format(lr.intercept_))"
   ]
  },
  {
   "cell_type": "markdown",
   "metadata": {
    "collapsed": true
   },
   "source": [
    "###### lr.coef_: [[-5.94067033]]\n",
    "###### lr.intercept_: [ 34403.9199438]"
   ]
  },
  {
   "cell_type": "markdown",
   "metadata": {
    "collapsed": true
   },
   "source": [
    "##### 1c Interpretation: Negative value on the coefficient reflects negative relationship, i.e., less severe winters correspond to greater admissions for alcoholism"
   ]
  },
  {
   "cell_type": "markdown",
   "metadata": {},
   "source": [
    "#### Conclusion for 1, linear regression using only the primary feature, AWSSI:\n",
    "#### The winter severity index alone has no value as a predictive algorithm for alcoholism admissions. "
   ]
  },
  {
   "cell_type": "markdown",
   "metadata": {},
   "source": [
    "#### Section 2: Use ordinary least square regression to see if a model incorporating more than one feature can be used to predict alcoholism admissions"
   ]
  },
  {
   "cell_type": "code",
   "execution_count": 22,
   "metadata": {
    "scrolled": true
   },
   "outputs": [
    {
     "data": {
      "text/plain": [
       "AWSSI              int64\n",
       "TempScore          int64\n",
       "SnowScore          int64\n",
       "Length             int64\n",
       "start_scale        int32\n",
       "end_scale          int32\n",
       "Total_Admits       int64\n",
       "male               int64\n",
       "female             int64\n",
       "white              int64\n",
       "black              int64\n",
       "No_HS_degree     float64\n",
       "HS_grad            int64\n",
       "college            int64\n",
       "nvr_mrrd           int64\n",
       "some_marriage      int64\n",
       "working            int64\n",
       "no_work            int64\n",
       "dtype: object"
      ]
     },
     "execution_count": 22,
     "metadata": {},
     "output_type": "execute_result"
    }
   ],
   "source": [
    "# Modify dataframe for initial regression with all features\n",
    "\n",
    "df.dtypes"
   ]
  },
  {
   "cell_type": "code",
   "execution_count": 23,
   "metadata": {
    "collapsed": true
   },
   "outputs": [],
   "source": [
    "df.drop(df.iloc[:, 7:18], inplace=True, axis=1)"
   ]
  },
  {
   "cell_type": "code",
   "execution_count": 24,
   "metadata": {},
   "outputs": [
    {
     "data": {
      "text/plain": [
       "AWSSI           int64\n",
       "TempScore       int64\n",
       "SnowScore       int64\n",
       "Length          int64\n",
       "start_scale     int32\n",
       "end_scale       int32\n",
       "Total_Admits    int64\n",
       "dtype: object"
      ]
     },
     "execution_count": 24,
     "metadata": {},
     "output_type": "execute_result"
    }
   ],
   "source": [
    "df.dtypes"
   ]
  },
  {
   "cell_type": "code",
   "execution_count": 25,
   "metadata": {
    "collapsed": true
   },
   "outputs": [],
   "source": [
    "# write a pickle of features and main target\n",
    "\n",
    "df.to_pickle (\"C:/Users/rmbrm/Documents/DS ED/2018/Spring/Cap1/Git/all_feats_1_targ\", compression='infer', protocol=4)"
   ]
  },
  {
   "cell_type": "markdown",
   "metadata": {},
   "source": [
    "##### 2a. Linear regression using all features indiscriminately, assessed by R^2:"
   ]
  },
  {
   "cell_type": "code",
   "execution_count": 26,
   "metadata": {
    "collapsed": true
   },
   "outputs": [],
   "source": [
    "from sklearn.metrics import mean_squared_error\n",
    "from sklearn.model_selection import train_test_split"
   ]
  },
  {
   "cell_type": "code",
   "execution_count": 27,
   "metadata": {},
   "outputs": [
    {
     "data": {
      "text/plain": [
       "(numpy.ndarray, numpy.ndarray)"
      ]
     },
     "execution_count": 27,
     "metadata": {},
     "output_type": "execute_result"
    }
   ],
   "source": [
    "X = df.drop(df.columns[6], axis=1).values \n",
    "y = df['Total_Admits'].values\n",
    "type(X), type(y) "
   ]
  },
  {
   "cell_type": "code",
   "execution_count": 28,
   "metadata": {
    "collapsed": true
   },
   "outputs": [],
   "source": [
    "y = y.reshape(-1, 1) "
   ]
  },
  {
   "cell_type": "code",
   "execution_count": 29,
   "metadata": {
    "collapsed": true
   },
   "outputs": [],
   "source": [
    "X_train, X_test, y_train, y_test = train_test_split(X, y, test_size = 0.3, random_state=42)\n"
   ]
  },
  {
   "cell_type": "code",
   "execution_count": 30,
   "metadata": {
    "collapsed": true
   },
   "outputs": [],
   "source": [
    "reg_all = LinearRegression()"
   ]
  },
  {
   "cell_type": "code",
   "execution_count": 31,
   "metadata": {},
   "outputs": [
    {
     "data": {
      "text/plain": [
       "LinearRegression(copy_X=True, fit_intercept=True, n_jobs=1, normalize=False)"
      ]
     },
     "execution_count": 31,
     "metadata": {},
     "output_type": "execute_result"
    }
   ],
   "source": [
    "reg_all.fit(X_train, y_train)"
   ]
  },
  {
   "cell_type": "code",
   "execution_count": 32,
   "metadata": {
    "collapsed": true
   },
   "outputs": [],
   "source": [
    "y_pred = reg_all.predict(X_test)"
   ]
  },
  {
   "cell_type": "code",
   "execution_count": 33,
   "metadata": {},
   "outputs": [
    {
     "name": "stdout",
     "output_type": "stream",
     "text": [
      "R^2: -0.03\n",
      "Root Mean Squared Error: 4712.46\n"
     ]
    }
   ],
   "source": [
    "print(\"R^2: {:.2f}\".format(reg_all.score(X_test, y_test)))\n",
    "rmse = np.sqrt(mean_squared_error(y_test, y_pred))\n",
    "print(\"Root Mean Squared Error: {:.2f}\".format(rmse))\n"
   ]
  },
  {
   "cell_type": "markdown",
   "metadata": {},
   "source": [
    "##### 2a  Linear regression using all available features indiscriminantly, results and interpretation\n",
    "##### This model performed abysmally: R^2: -0.03\n",
    "###### Root Mean Squared Error provides an absolute measure of fit. It is the standard deviation of the differences between predicted values and observed values in the same units as the response variable -- in this case, in units of admissions for alcoholism.\n",
    "###### Here, at 4712, it is quite high, given  overall annual admits that range from 18,000 to 35,000."
   ]
  },
  {
   "cell_type": "markdown",
   "metadata": {},
   "source": [
    "##### 2b. Linear regression using all features, what are the coefficients, intercept, and training/test results?"
   ]
  },
  {
   "cell_type": "code",
   "execution_count": 34,
   "metadata": {
    "collapsed": true
   },
   "outputs": [],
   "source": [
    "X_train, X_test, y_train, y_test = train_test_split(X, y, random_state = 0)\n",
    "lr = LinearRegression().fit(X_train, y_train)"
   ]
  },
  {
   "cell_type": "code",
   "execution_count": 35,
   "metadata": {
    "scrolled": true
   },
   "outputs": [
    {
     "name": "stdout",
     "output_type": "stream",
     "text": [
      "lr.coef_: [[ -5.99730677 -11.61029888   5.61299211 -70.93744942 -76.92858979\n",
      "    5.99114038]]\n",
      "lr.intercept_: [ 48716.85731591]\n"
     ]
    }
   ],
   "source": [
    "print(\"lr.coef_: {}\".format(lr.coef_))\n",
    "print(\"lr.intercept_: {}\".format(lr.intercept_))"
   ]
  },
  {
   "cell_type": "markdown",
   "metadata": {},
   "source": [
    "###### The slopes for the features are:\n",
    "###### AWSSI    -6\n",
    "###### TempScore    -11.61\n",
    "###### SnowScore    5.61\n",
    "###### Length    -70.94\n",
    "###### Start_scale  -76.93  \n",
    "###### End_scale    6\n",
    "\n",
    "###### The intercept is: 48716.86"
   ]
  },
  {
   "cell_type": "code",
   "execution_count": 36,
   "metadata": {
    "scrolled": false
   },
   "outputs": [
    {
     "name": "stdout",
     "output_type": "stream",
     "text": [
      "Training set score: 0.34\n",
      "Test set score: -0.14\n"
     ]
    }
   ],
   "source": [
    "print(\"Training set score: {:.2f}\".format(lr.score(X_train, y_train)))\n",
    "print(\"Test set score: {:.2f}\".format(lr.score(X_test, y_test)))\n"
   ]
  },
  {
   "cell_type": "markdown",
   "metadata": {},
   "source": [
    "##### 2b Interpretation: Relative to linear regression using only one feature, using all available features increases the training set score, as would be expected with a more complex model that more accurately describes the specific characteristics of the training sample, but does poorly on another sample, i.e., the test data. This is because the model overfits to the training set, and is not generalizable to the test set, or other data. "
   ]
  },
  {
   "cell_type": "markdown",
   "metadata": {},
   "source": [
    "#### 3. Ridge regression"
   ]
  },
  {
   "cell_type": "code",
   "execution_count": 37,
   "metadata": {
    "collapsed": true
   },
   "outputs": [],
   "source": [
    "from sklearn.linear_model import Ridge\n",
    "ridge = Ridge().fit(X_train, y_train)"
   ]
  },
  {
   "cell_type": "code",
   "execution_count": 39,
   "metadata": {},
   "outputs": [
    {
     "name": "stdout",
     "output_type": "stream",
     "text": [
      "Training set score: 0.34\n",
      "Test set score: -0.14\n"
     ]
    }
   ],
   "source": [
    "print(\"Training set score: {:.2f}\".format(ridge.score(X_train, y_train)))\n",
    "print(\"Test set score: {:.2f}\".format(ridge.score(X_test, y_test)))"
   ]
  },
  {
   "cell_type": "code",
   "execution_count": 40,
   "metadata": {
    "scrolled": true
   },
   "outputs": [
    {
     "data": {
      "text/plain": [
       "Ridge(alpha=1.0, copy_X=True, fit_intercept=True, max_iter=None,\n",
       "   normalize=False, random_state=None, solver='auto', tol=0.001)"
      ]
     },
     "execution_count": 40,
     "metadata": {},
     "output_type": "execute_result"
    }
   ],
   "source": [
    "ridge.fit(X_train, y_train) "
   ]
  },
  {
   "cell_type": "code",
   "execution_count": 41,
   "metadata": {
    "collapsed": true
   },
   "outputs": [],
   "source": [
    "ridge_pred = ridge.predict(X_test)"
   ]
  },
  {
   "cell_type": "code",
   "execution_count": 42,
   "metadata": {},
   "outputs": [
    {
     "data": {
      "text/plain": [
       "-0.1434261682740563"
      ]
     },
     "execution_count": 42,
     "metadata": {},
     "output_type": "execute_result"
    }
   ],
   "source": [
    "ridge.score(X_test, y_test) "
   ]
  },
  {
   "cell_type": "markdown",
   "metadata": {},
   "source": [
    "##### 3. Ridge regression results and interpretation:\n",
    "###### Training set score: 0.34\n",
    "###### Test set score: -0.14\n",
    "###### R^2: -0.11\n",
    "###### Ridge regression train/test scores are identical to linear regression using all available features indiscriminately. This is likely because both linear regression and ridge regression are not able to learn with the scant data in this study.\n",
    "###### Once again, the R^2 score is so low as to make comparisons with other model R^2 meaningless."
   ]
  },
  {
   "cell_type": "markdown",
   "metadata": {},
   "source": [
    "#### 4a. Lasso regression"
   ]
  },
  {
   "cell_type": "code",
   "execution_count": 43,
   "metadata": {
    "collapsed": true
   },
   "outputs": [],
   "source": [
    "from sklearn.linear_model import Lasso "
   ]
  },
  {
   "cell_type": "code",
   "execution_count": 44,
   "metadata": {
    "collapsed": true
   },
   "outputs": [],
   "source": [
    "names = df.drop('Total_Admits', axis=1).columns "
   ]
  },
  {
   "cell_type": "code",
   "execution_count": 45,
   "metadata": {},
   "outputs": [
    {
     "name": "stderr",
     "output_type": "stream",
     "text": [
      "C:\\Users\\rmbrm\\Anaconda3\\lib\\site-packages\\sklearn\\linear_model\\coordinate_descent.py:491: ConvergenceWarning: Objective did not converge. You might want to increase the number of iterations. Fitting data with very small alpha may cause precision problems.\n",
      "  ConvergenceWarning)\n"
     ]
    },
    {
     "data": {
      "image/png": "[encoded data removed]",
      "text/plain": [
       "<matplotlib.figure.Figure at 0x1d4701cccf8>"
      ]
     },
     "metadata": {},
     "output_type": "display_data"
    }
   ],
   "source": [
    "# default parameters\n",
    "\n",
    "lasso = Lasso(alpha=1.0, tol=0.0001)\n",
    "lasso_coef = lasso.fit(X, y).coef_ \n",
    "_ = plt.plot(range(len(names)), lasso_coef) \n",
    "_ = plt.xticks(range(len(names)), names, rotation=60) \n",
    "_ = plt.ylabel('Coefficients') \n",
    "plt.show()"
   ]
  },
  {
   "cell_type": "markdown",
   "metadata": {},
   "source": [
    "##### Using default parameters (above), objective did not converge"
   ]
  },
  {
   "cell_type": "code",
   "execution_count": 46,
   "metadata": {},
   "outputs": [
    {
     "name": "stderr",
     "output_type": "stream",
     "text": [
      "C:\\Users\\rmbrm\\Anaconda3\\lib\\site-packages\\sklearn\\linear_model\\coordinate_descent.py:491: ConvergenceWarning: Objective did not converge. You might want to increase the number of iterations. Fitting data with very small alpha may cause precision problems.\n",
      "  ConvergenceWarning)\n"
     ]
    },
    {
     "data": {
      "image/png": "[encoded data removed]",
      "text/plain": [
       "<matplotlib.figure.Figure at 0x1d4701cc6a0>"
      ]
     },
     "metadata": {},
     "output_type": "display_data"
    }
   ],
   "source": [
    "# using alpha from DataCamp example\n",
    "lasso = Lasso(alpha=0.1) \n",
    "lasso_coef = lasso.fit(X, y).coef_ \n",
    "_ = plt.plot(range(len(names)), lasso_coef) \n",
    "_ = plt.xticks(range(len(names)), names, rotation=60) \n",
    "_ = plt.ylabel('Coefficients') \n",
    "plt.show()"
   ]
  },
  {
   "cell_type": "markdown",
   "metadata": {},
   "source": [
    "##### Lowering alpha to 0.1 without other changes (above), did not converge"
   ]
  },
  {
   "cell_type": "code",
   "execution_count": 47,
   "metadata": {},
   "outputs": [
    {
     "name": "stderr",
     "output_type": "stream",
     "text": [
      "C:\\Users\\rmbrm\\Anaconda3\\lib\\site-packages\\sklearn\\linear_model\\coordinate_descent.py:491: ConvergenceWarning: Objective did not converge. You might want to increase the number of iterations. Fitting data with very small alpha may cause precision problems.\n",
      "  ConvergenceWarning)\n"
     ]
    },
    {
     "data": {
      "image/png": "[encoded data removed]",
      "text/plain": [
       "<matplotlib.figure.Figure at 0x1d470aa1358>"
      ]
     },
     "metadata": {},
     "output_type": "display_data"
    }
   ],
   "source": [
    "lasso = Lasso(alpha=0.1, max_iter = 100000, tol=0.0001)\n",
    "lasso_coef = lasso.fit(X, y).coef_ \n",
    "_ = plt.plot(range(len(names)), lasso_coef) \n",
    "_ = plt.xticks(range(len(names)), names, rotation=60) \n",
    "_ = plt.ylabel('Coefficients') \n",
    "plt.show()"
   ]
  },
  {
   "cell_type": "markdown",
   "metadata": {},
   "source": [
    "##### Lower alpha to .1, increase iterations, leave tolerance to default (above), did not converge"
   ]
  },
  {
   "cell_type": "markdown",
   "metadata": {},
   "source": [
    "##### With default alpha and increased iterations, convergance (below)"
   ]
  },
  {
   "cell_type": "code",
   "execution_count": 48,
   "metadata": {
    "scrolled": true
   },
   "outputs": [
    {
     "data": {
      "image/png": "[encoded data removed]",
      "text/plain": [
       "<matplotlib.figure.Figure at 0x1d470b00860>"
      ]
     },
     "metadata": {},
     "output_type": "display_data"
    }
   ],
   "source": [
    "lasso = Lasso(alpha=1.0, max_iter = 100000, tol=0.0001) \n",
    "lasso_coef = lasso.fit(X, y).coef_ \n",
    "_ = plt.plot(range(len(names)), lasso_coef) \n",
    "_ = plt.xticks(range(len(names)), names, rotation=60) \n",
    "_ = plt.ylabel('Coefficients') \n",
    "plt.show()"
   ]
  },
  {
   "cell_type": "markdown",
   "metadata": {},
   "source": [
    "#### 4a results and interpretation of lasso regression:\n",
    "##### The feature Length is the most predictive feature for the target, Alcoholism admissions. Start scale is the second most predictive feature."
   ]
  },
  {
   "cell_type": "markdown",
   "metadata": {
    "collapsed": true
   },
   "source": [
    "#### 4b. Apply the results of lasso regression: OLS with the two most predictive features, winter length and start of winter scale"
   ]
  },
  {
   "cell_type": "code",
   "execution_count": 49,
   "metadata": {
    "scrolled": true
   },
   "outputs": [
    {
     "data": {
      "text/html": [
       "<div>\n",
       "<style scoped>\n",
       "    .dataframe tbody tr th:only-of-type {\n",
       "        vertical-align: middle;\n",
       "    }\n",
       "\n",
       "    .dataframe tbody tr th {\n",
       "        vertical-align: top;\n",
       "    }\n",
       "\n",
       "    .dataframe thead th {\n",
       "        text-align: right;\n",
       "    }\n",
       "</style>\n",
       "<table border=\"1\" class=\"dataframe\">\n",
       "  <thead>\n",
       "    <tr style=\"text-align: right;\">\n",
       "      <th></th>\n",
       "      <th>AWSSI</th>\n",
       "      <th>TempScore</th>\n",
       "      <th>SnowScore</th>\n",
       "      <th>Length</th>\n",
       "      <th>start_scale</th>\n",
       "      <th>end_scale</th>\n",
       "      <th>Total_Admits</th>\n",
       "    </tr>\n",
       "  </thead>\n",
       "  <tbody>\n",
       "    <tr>\n",
       "      <th>0</th>\n",
       "      <td>440</td>\n",
       "      <td>335</td>\n",
       "      <td>105</td>\n",
       "      <td>159</td>\n",
       "      <td>40</td>\n",
       "      <td>118</td>\n",
       "      <td>29526</td>\n",
       "    </tr>\n",
       "    <tr>\n",
       "      <th>1</th>\n",
       "      <td>788</td>\n",
       "      <td>364</td>\n",
       "      <td>424</td>\n",
       "      <td>164</td>\n",
       "      <td>36</td>\n",
       "      <td>127</td>\n",
       "      <td>31541</td>\n",
       "    </tr>\n",
       "    <tr>\n",
       "      <th>2</th>\n",
       "      <td>1052</td>\n",
       "      <td>426</td>\n",
       "      <td>626</td>\n",
       "      <td>127</td>\n",
       "      <td>27</td>\n",
       "      <td>99</td>\n",
       "      <td>32210</td>\n",
       "    </tr>\n",
       "    <tr>\n",
       "      <th>3</th>\n",
       "      <td>369</td>\n",
       "      <td>279</td>\n",
       "      <td>90</td>\n",
       "      <td>134</td>\n",
       "      <td>28</td>\n",
       "      <td>105</td>\n",
       "      <td>33411</td>\n",
       "    </tr>\n",
       "    <tr>\n",
       "      <th>4</th>\n",
       "      <td>1090</td>\n",
       "      <td>400</td>\n",
       "      <td>690</td>\n",
       "      <td>153</td>\n",
       "      <td>38</td>\n",
       "      <td>114</td>\n",
       "      <td>34559</td>\n",
       "    </tr>\n",
       "  </tbody>\n",
       "</table>\n",
       "</div>"
      ],
      "text/plain": [
       "   AWSSI  TempScore  SnowScore  Length  start_scale  end_scale  Total_Admits\n",
       "0    440        335        105     159           40        118         29526\n",
       "1    788        364        424     164           36        127         31541\n",
       "2   1052        426        626     127           27         99         32210\n",
       "3    369        279         90     134           28        105         33411\n",
       "4   1090        400        690     153           38        114         34559"
      ]
     },
     "execution_count": 49,
     "metadata": {},
     "output_type": "execute_result"
    }
   ],
   "source": [
    "# modify dataframe for this analysis\n",
    "df = pd.read_pickle(\"C:/Users/rmbrm/Documents/DS ED/2018/Spring/Cap1/Git/all_feats_1_targ\", compression='infer')\n",
    "df.head()"
   ]
  },
  {
   "cell_type": "code",
   "execution_count": 50,
   "metadata": {},
   "outputs": [
    {
     "data": {
      "text/html": [
       "<div>\n",
       "<style scoped>\n",
       "    .dataframe tbody tr th:only-of-type {\n",
       "        vertical-align: middle;\n",
       "    }\n",
       "\n",
       "    .dataframe tbody tr th {\n",
       "        vertical-align: top;\n",
       "    }\n",
       "\n",
       "    .dataframe thead th {\n",
       "        text-align: right;\n",
       "    }\n",
       "</style>\n",
       "<table border=\"1\" class=\"dataframe\">\n",
       "  <thead>\n",
       "    <tr style=\"text-align: right;\">\n",
       "      <th></th>\n",
       "      <th>Length</th>\n",
       "      <th>start_scale</th>\n",
       "      <th>end_scale</th>\n",
       "      <th>Total_Admits</th>\n",
       "    </tr>\n",
       "  </thead>\n",
       "  <tbody>\n",
       "    <tr>\n",
       "      <th>0</th>\n",
       "      <td>159</td>\n",
       "      <td>40</td>\n",
       "      <td>118</td>\n",
       "      <td>29526</td>\n",
       "    </tr>\n",
       "    <tr>\n",
       "      <th>1</th>\n",
       "      <td>164</td>\n",
       "      <td>36</td>\n",
       "      <td>127</td>\n",
       "      <td>31541</td>\n",
       "    </tr>\n",
       "    <tr>\n",
       "      <th>2</th>\n",
       "      <td>127</td>\n",
       "      <td>27</td>\n",
       "      <td>99</td>\n",
       "      <td>32210</td>\n",
       "    </tr>\n",
       "    <tr>\n",
       "      <th>3</th>\n",
       "      <td>134</td>\n",
       "      <td>28</td>\n",
       "      <td>105</td>\n",
       "      <td>33411</td>\n",
       "    </tr>\n",
       "    <tr>\n",
       "      <th>4</th>\n",
       "      <td>153</td>\n",
       "      <td>38</td>\n",
       "      <td>114</td>\n",
       "      <td>34559</td>\n",
       "    </tr>\n",
       "  </tbody>\n",
       "</table>\n",
       "</div>"
      ],
      "text/plain": [
       "   Length  start_scale  end_scale  Total_Admits\n",
       "0     159           40        118         29526\n",
       "1     164           36        127         31541\n",
       "2     127           27         99         32210\n",
       "3     134           28        105         33411\n",
       "4     153           38        114         34559"
      ]
     },
     "execution_count": 50,
     "metadata": {},
     "output_type": "execute_result"
    }
   ],
   "source": [
    "df=df.drop(df.columns[0:3], axis=1)\n",
    "df.head()"
   ]
  },
  {
   "cell_type": "code",
   "execution_count": 51,
   "metadata": {
    "collapsed": true
   },
   "outputs": [],
   "source": [
    "y = df['Total_Admits'].values"
   ]
  },
  {
   "cell_type": "code",
   "execution_count": 52,
   "metadata": {},
   "outputs": [
    {
     "data": {
      "text/html": [
       "<div>\n",
       "<style scoped>\n",
       "    .dataframe tbody tr th:only-of-type {\n",
       "        vertical-align: middle;\n",
       "    }\n",
       "\n",
       "    .dataframe tbody tr th {\n",
       "        vertical-align: top;\n",
       "    }\n",
       "\n",
       "    .dataframe thead th {\n",
       "        text-align: right;\n",
       "    }\n",
       "</style>\n",
       "<table border=\"1\" class=\"dataframe\">\n",
       "  <thead>\n",
       "    <tr style=\"text-align: right;\">\n",
       "      <th></th>\n",
       "      <th>Length</th>\n",
       "      <th>start_scale</th>\n",
       "      <th>Total_Admits</th>\n",
       "    </tr>\n",
       "  </thead>\n",
       "  <tbody>\n",
       "    <tr>\n",
       "      <th>0</th>\n",
       "      <td>159</td>\n",
       "      <td>40</td>\n",
       "      <td>29526</td>\n",
       "    </tr>\n",
       "    <tr>\n",
       "      <th>1</th>\n",
       "      <td>164</td>\n",
       "      <td>36</td>\n",
       "      <td>31541</td>\n",
       "    </tr>\n",
       "    <tr>\n",
       "      <th>2</th>\n",
       "      <td>127</td>\n",
       "      <td>27</td>\n",
       "      <td>32210</td>\n",
       "    </tr>\n",
       "    <tr>\n",
       "      <th>3</th>\n",
       "      <td>134</td>\n",
       "      <td>28</td>\n",
       "      <td>33411</td>\n",
       "    </tr>\n",
       "    <tr>\n",
       "      <th>4</th>\n",
       "      <td>153</td>\n",
       "      <td>38</td>\n",
       "      <td>34559</td>\n",
       "    </tr>\n",
       "  </tbody>\n",
       "</table>\n",
       "</div>"
      ],
      "text/plain": [
       "   Length  start_scale  Total_Admits\n",
       "0     159           40         29526\n",
       "1     164           36         31541\n",
       "2     127           27         32210\n",
       "3     134           28         33411\n",
       "4     153           38         34559"
      ]
     },
     "execution_count": 52,
     "metadata": {},
     "output_type": "execute_result"
    }
   ],
   "source": [
    "df = df.drop(df.columns[2:3], axis=1) \n",
    "df.head()"
   ]
  },
  {
   "cell_type": "code",
   "execution_count": 53,
   "metadata": {
    "collapsed": true
   },
   "outputs": [],
   "source": [
    "X = df.drop(df.columns[2], axis=1).values "
   ]
  },
  {
   "cell_type": "code",
   "execution_count": 54,
   "metadata": {},
   "outputs": [
    {
     "name": "stdout",
     "output_type": "stream",
     "text": [
      "[[159  40]\n",
      " [164  36]\n",
      " [127  27]\n",
      " [134  28]\n",
      " [153  38]\n",
      " [146  36]\n",
      " [148  37]\n",
      " [108  20]\n",
      " [149  20]\n",
      " [172  52]\n",
      " [147  20]\n",
      " [170  59]\n",
      " [166  59]\n",
      " [152  38]\n",
      " [159  52]\n",
      " [126  20]\n",
      " [131  31]\n",
      " [143  31]\n",
      " [160  64]\n",
      " [146  43]\n",
      " [133  55]\n",
      " [140  44]\n",
      " [155  38]]\n",
      "[29526 31541 32210 33411 34559 35083 32965 30886 28948 26727 22670 18216\n",
      " 20421 20734 37349 36572 32384 32079 31201 29715 30013 28841 27619]\n"
     ]
    }
   ],
   "source": [
    "print(X)\n",
    "print(y)"
   ]
  },
  {
   "cell_type": "code",
   "execution_count": 55,
   "metadata": {
    "collapsed": true
   },
   "outputs": [],
   "source": [
    "y = y.reshape(-1, 1) "
   ]
  },
  {
   "cell_type": "code",
   "execution_count": 56,
   "metadata": {},
   "outputs": [
    {
     "name": "stdout",
     "output_type": "stream",
     "text": [
      "lr.coef_: [[-104.84843725  -59.81315593]]\n",
      "lr.intercept_: [ 47749.62736287]\n",
      "Training set score: 0.27\n",
      "Test set score: -0.05\n",
      "R^2: -0.05\n",
      "Root Mean Squared Error: 6315.72\n"
     ]
    }
   ],
   "source": [
    "\n",
    "X, y = X, y\n",
    "X_train, X_test, y_train, y_test = train_test_split(X, y, random_state = 0)\n",
    "lr = LinearRegression()\n",
    "lr.fit(X_train, y_train)\n",
    "y_pred = lr.predict(X_test)\n",
    "print(\"lr.coef_: {}\".format(lr.coef_))\n",
    "print(\"lr.intercept_: {}\".format(lr.intercept_))\n",
    "print(\"Training set score: {:.2f}\".format(lr.score(X_train, y_train)))\n",
    "print(\"Test set score: {:.2f}\".format(lr.score(X_test, y_test)))\n",
    "print(\"R^2: {:.2f}\".format(lr.score(X_test, y_test)))\n",
    "rmse = np.sqrt(mean_squared_error(y_test, y_pred))\n",
    "print(\"Root Mean Squared Error: {:.2f}\".format(rmse))"
   ]
  },
  {
   "cell_type": "markdown",
   "metadata": {},
   "source": [
    "#### 4b. Results and interpretation:\n",
    "##### lr.coef_: [[-104.84843725  -59.81315593]]\n",
    "##### lr.intercept_: [ 47749.62736287\n",
    "##### Training set score: 0.27\n",
    "##### Test set score: -0.05\n",
    "##### R^2: -0.05\n",
    "##### Root Mean Squared Error: 6315.72. RMSE for this model, with only two of the six features, is almost 50% greater than the RMSE for the regression model using all available features. This is explained by the overfit of the all-feature model to the train data set. This model was more generalizable, with a R^2 that was greater than the overfitting all-feature model. However, this difference was only .02, and the two models are both beyond useless for predictive purposes, so the difference is essentially meaningless, and likely well with the error associated with the parameters."
   ]
  },
  {
   "cell_type": "markdown",
   "metadata": {
    "collapsed": true
   },
   "source": [
    "#### 2e(2). Regression using the winter length feature, identified by the Lasso regression as being most predictive"
   ]
  },
  {
   "cell_type": "code",
   "execution_count": 57,
   "metadata": {
    "scrolled": true
   },
   "outputs": [
    {
     "data": {
      "text/html": [
       "<div>\n",
       "<style scoped>\n",
       "    .dataframe tbody tr th:only-of-type {\n",
       "        vertical-align: middle;\n",
       "    }\n",
       "\n",
       "    .dataframe tbody tr th {\n",
       "        vertical-align: top;\n",
       "    }\n",
       "\n",
       "    .dataframe thead th {\n",
       "        text-align: right;\n",
       "    }\n",
       "</style>\n",
       "<table border=\"1\" class=\"dataframe\">\n",
       "  <thead>\n",
       "    <tr style=\"text-align: right;\">\n",
       "      <th></th>\n",
       "      <th>AWSSI</th>\n",
       "      <th>TempScore</th>\n",
       "      <th>SnowScore</th>\n",
       "      <th>Length</th>\n",
       "      <th>start_scale</th>\n",
       "      <th>end_scale</th>\n",
       "      <th>Total_Admits</th>\n",
       "    </tr>\n",
       "  </thead>\n",
       "  <tbody>\n",
       "    <tr>\n",
       "      <th>0</th>\n",
       "      <td>440</td>\n",
       "      <td>335</td>\n",
       "      <td>105</td>\n",
       "      <td>159</td>\n",
       "      <td>40</td>\n",
       "      <td>118</td>\n",
       "      <td>29526</td>\n",
       "    </tr>\n",
       "    <tr>\n",
       "      <th>1</th>\n",
       "      <td>788</td>\n",
       "      <td>364</td>\n",
       "      <td>424</td>\n",
       "      <td>164</td>\n",
       "      <td>36</td>\n",
       "      <td>127</td>\n",
       "      <td>31541</td>\n",
       "    </tr>\n",
       "    <tr>\n",
       "      <th>2</th>\n",
       "      <td>1052</td>\n",
       "      <td>426</td>\n",
       "      <td>626</td>\n",
       "      <td>127</td>\n",
       "      <td>27</td>\n",
       "      <td>99</td>\n",
       "      <td>32210</td>\n",
       "    </tr>\n",
       "    <tr>\n",
       "      <th>3</th>\n",
       "      <td>369</td>\n",
       "      <td>279</td>\n",
       "      <td>90</td>\n",
       "      <td>134</td>\n",
       "      <td>28</td>\n",
       "      <td>105</td>\n",
       "      <td>33411</td>\n",
       "    </tr>\n",
       "    <tr>\n",
       "      <th>4</th>\n",
       "      <td>1090</td>\n",
       "      <td>400</td>\n",
       "      <td>690</td>\n",
       "      <td>153</td>\n",
       "      <td>38</td>\n",
       "      <td>114</td>\n",
       "      <td>34559</td>\n",
       "    </tr>\n",
       "  </tbody>\n",
       "</table>\n",
       "</div>"
      ],
      "text/plain": [
       "   AWSSI  TempScore  SnowScore  Length  start_scale  end_scale  Total_Admits\n",
       "0    440        335        105     159           40        118         29526\n",
       "1    788        364        424     164           36        127         31541\n",
       "2   1052        426        626     127           27         99         32210\n",
       "3    369        279         90     134           28        105         33411\n",
       "4   1090        400        690     153           38        114         34559"
      ]
     },
     "execution_count": 57,
     "metadata": {},
     "output_type": "execute_result"
    }
   ],
   "source": [
    "df = pd.read_pickle(\"C:/Users/rmbrm/Documents/DS ED/2018/Spring/Cap1/Git/all_feats_1_targ\", compression='infer')\n",
    "df.head()"
   ]
  },
  {
   "cell_type": "code",
   "execution_count": 58,
   "metadata": {
    "collapsed": true
   },
   "outputs": [],
   "source": [
    "X1 = df.values "
   ]
  },
  {
   "cell_type": "code",
   "execution_count": 59,
   "metadata": {
    "collapsed": true,
    "scrolled": true
   },
   "outputs": [],
   "source": [
    "X = X1[:,3] "
   ]
  },
  {
   "cell_type": "code",
   "execution_count": 60,
   "metadata": {
    "collapsed": true
   },
   "outputs": [],
   "source": [
    "y = df['Total_Admits'].values"
   ]
  },
  {
   "cell_type": "code",
   "execution_count": 61,
   "metadata": {
    "collapsed": true
   },
   "outputs": [],
   "source": [
    "y = y.reshape(-1, 1) \n",
    "X = X.reshape(-1, 1)"
   ]
  },
  {
   "cell_type": "code",
   "execution_count": 62,
   "metadata": {},
   "outputs": [
    {
     "name": "stdout",
     "output_type": "stream",
     "text": [
      "lr.coef_: [[-141.97595305]]\n",
      "lr.intercept_: [ 50966.49904765]\n",
      "Training set score: 0.26\n",
      "Test set score: -0.02\n",
      "R^2: -0.02\n",
      "Root Mean Squared Error: 6242.50\n"
     ]
    }
   ],
   "source": [
    "from sklearn.linear_model import LinearRegression \n",
    "from sklearn.model_selection import train_test_split\n",
    "X, y = X, y\n",
    "X_train, X_test, y_train, y_test = train_test_split(X, y, random_state = 0)\n",
    "lr = LinearRegression().fit(X_train, y_train)\n",
    "print(\"lr.coef_: {}\".format(lr.coef_))\n",
    "print(\"lr.intercept_: {}\".format(lr.intercept_))\n",
    "print(\"Training set score: {:.2f}\".format(lr.score(X_train, y_train)))\n",
    "print(\"Test set score: {:.2f}\".format(lr.score(X_test, y_test)))\n",
    "y_pred = lr.predict(X_test)\n",
    "print(\"R^2: {:.2f}\".format(lr.score(X_test, y_test)))\n",
    "rmse = np.sqrt(mean_squared_error(y_test, y_pred))\n",
    "print(\"Root Mean Squared Error: {:.2f}\".format(rmse))"
   ]
  },
  {
   "cell_type": "markdown",
   "metadata": {},
   "source": [
    "#### 2e(2) Regression using the most predictive feature, winter length, results and interpretation:\n",
    "\n",
    "##### lr.coef_: [[-141.98]]\n",
    "##### lr.intercept_: [ 50966.50]\n",
    "##### Training set score: 0.26\n",
    "##### Test set score: -0.02\n",
    "##### R^2: -0.02\n",
    "##### Root Mean Squared Error: 6242.50\n",
    "\n",
    "##### Basically this is not different in any meaningful way than 2e(1), with the start date scale included as a feature."
   ]
  }
 ],
 "metadata": {
  "kernelspec": {
   "display_name": "Python 3",
   "language": "python",
   "name": "python3"
  },
  "language_info": {
   "codemirror_mode": {
    "name": "ipython",
    "version": 3
   },
   "file_extension": ".py",
   "mimetype": "text/x-python",
   "name": "python",
   "nbconvert_exporter": "python",
   "pygments_lexer": "ipython3",
   "version": "3.6.3"
  }
 },
 "nbformat": 4,
 "nbformat_minor": 2
}
